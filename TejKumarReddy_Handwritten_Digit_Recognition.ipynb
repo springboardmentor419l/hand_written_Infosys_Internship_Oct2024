{
 "cells": [
  {
   "cell_type": "markdown",
   "metadata": {
    "id": "HXEZPrUJyzp1"
   },
   "source": [
    "Project : Handwritten_Digit_Recognition\n",
    "\n",
    "Intern Name : KATLAGANTI TEJKUMAR REDDY"
   ]
  },
  {
   "cell_type": "code",
   "execution_count": 1,
   "metadata": {
    "id": "ddDDl1TIeh10"
   },
   "outputs": [],
   "source": [
    "import os"
   ]
  },
  {
   "cell_type": "code",
   "execution_count": 2,
   "metadata": {
    "id": "zEXEVOvIfZgI"
   },
   "outputs": [],
   "source": [
    "# Define the base folder name\n",
    "base_folder = \"Handwritten_Digit_Recognition\"\n",
    "\n",
    "# List of sub-folders inside the base folder\n",
    "sub_folders = [\"output\", \"notebooks\", \"results\"]"
   ]
  },
  {
   "cell_type": "code",
   "execution_count": 3,
   "metadata": {
    "colab": {
     "base_uri": "https://localhost:8080/"
    },
    "id": "-0dhOwlofx-4",
    "outputId": "ad8db56a-8d6a-48a2-a21a-6ac76da8b19c"
   },
   "outputs": [
    {
     "name": "stdout",
     "output_type": "stream",
     "text": [
      "Folder structure created under: Handwritten_Digit_Recognition\n"
     ]
    }
   ],
   "source": [
    "# Create the base folder\n",
    "if not os.path.exists(base_folder):\n",
    "    os.makedirs(base_folder)\n",
    "\n",
    "# Create sub-folders\n",
    "for folder in sub_folders:\n",
    "    path = os.path.join(base_folder, folder)\n",
    "    if not os.path.exists(path):\n",
    "        os.makedirs(path)\n",
    "\n",
    "print(f\"Folder structure created under: {base_folder}\")"
   ]
  },
  {
   "cell_type": "code",
   "execution_count": 4,
   "metadata": {
    "colab": {
     "base_uri": "https://localhost:8080/"
    },
    "id": "TPFP8J0Qf6xX",
    "outputId": "29ff98e0-d1fa-471d-bda4-4bb451055df7"
   },
   "outputs": [
    {
     "name": "stdout",
     "output_type": "stream",
     "text": [
      "Handwritten_Digit_Recognition\n",
      "  - notebooks\n",
      "  - output\n",
      "  - results\n",
      "Handwritten_Digit_Recognition/notebooks\n",
      "Handwritten_Digit_Recognition/output\n",
      "Handwritten_Digit_Recognition/results\n"
     ]
    }
   ],
   "source": [
    "for root, dirs, files in os.walk(base_folder):\n",
    "    print(root)\n",
    "    for name in dirs:\n",
    "        print(f\"  - {name}\")"
   ]
  },
  {
   "cell_type": "code",
   "execution_count": 5,
   "metadata": {
    "colab": {
     "base_uri": "https://localhost:8080/"
    },
    "id": "wZI6uZgQgBIe",
    "outputId": "ea69ac7f-5c93-4b09-fdba-25062eede961"
   },
   "outputs": [
    {
     "name": "stdout",
     "output_type": "stream",
     "text": [
      "Mounted at /content/drive\n",
      "Folder structure saved to Google Drive.\n"
     ]
    }
   ],
   "source": [
    "from google.colab import drive\n",
    "drive.mount('/content/drive')\n",
    "\n",
    "# Save folder structure in Google Drive\n",
    "drive_base = \"/content/drive/My Drive/Handwritten_Digit_Recognition\"\n",
    "if not os.path.exists(drive_base):\n",
    "    os.makedirs(drive_base)\n",
    "\n",
    "# Copy base folder to Drive\n",
    "!cp -r Handwritten_Digit_Recognition /content/drive/My\\ Drive/\n",
    "print(\"Folder structure saved to Google Drive.\")"
   ]
  },
  {
   "cell_type": "code",
   "execution_count": 6,
   "metadata": {
    "colab": {
     "base_uri": "https://localhost:8080/",
     "height": 34
    },
    "id": "G82r0hBdgQAA",
    "outputId": "d3e162b9-9e76-40a3-e0b2-965b01a06fb1"
   },
   "outputs": [
    {
     "data": {
      "application/javascript": "\n    async function download(id, filename, size) {\n      if (!google.colab.kernel.accessAllowed) {\n        return;\n      }\n      const div = document.createElement('div');\n      const label = document.createElement('label');\n      label.textContent = `Downloading \"${filename}\": `;\n      div.appendChild(label);\n      const progress = document.createElement('progress');\n      progress.max = size;\n      div.appendChild(progress);\n      document.body.appendChild(div);\n\n      const buffers = [];\n      let downloaded = 0;\n\n      const channel = await google.colab.kernel.comms.open(id);\n      // Send a message to notify the kernel that we're ready.\n      channel.send({})\n\n      for await (const message of channel.messages) {\n        // Send a message to notify the kernel that we're ready.\n        channel.send({})\n        if (message.buffers) {\n          for (const buffer of message.buffers) {\n            buffers.push(buffer);\n            downloaded += buffer.byteLength;\n            progress.value = downloaded;\n          }\n        }\n      }\n      const blob = new Blob(buffers, {type: 'application/binary'});\n      const a = document.createElement('a');\n      a.href = window.URL.createObjectURL(blob);\n      a.download = filename;\n      div.appendChild(a);\n      a.click();\n      div.remove();\n    }\n  ",
      "text/plain": [
       "<IPython.core.display.Javascript object>"
      ]
     },
     "metadata": {},
     "output_type": "display_data"
    },
    {
     "data": {
      "application/javascript": "download(\"download_af7b3615-df45-440b-84cb-9d7393bdfeb4\", \"Handwritten_Digit_Recognition.zip\", 300)",
      "text/plain": [
       "<IPython.core.display.Javascript object>"
      ]
     },
     "metadata": {},
     "output_type": "display_data"
    },
    {
     "name": "stdout",
     "output_type": "stream",
     "text": [
      "Folder structure downloaded as ZIP.\n"
     ]
    }
   ],
   "source": [
    "import shutil\n",
    "shutil.make_archive(base_folder, 'zip', base_folder)\n",
    "\n",
    "from google.colab import files\n",
    "files.download(f\"{base_folder}.zip\")\n",
    "print(\"Folder structure downloaded as ZIP.\")"
   ]
  },
  {
   "cell_type": "code",
   "execution_count": 7,
   "metadata": {
    "colab": {
     "base_uri": "https://localhost:8080/"
    },
    "id": "mylYsqDNgYMF",
    "outputId": "54906491-b614-4b1a-e14f-ac71d078863a"
   },
   "outputs": [
    {
     "name": "stdout",
     "output_type": "stream",
     "text": [
      "Placeholder files added to empty folders.\n"
     ]
    }
   ],
   "source": [
    "for folder in sub_folders:\n",
    "    path = os.path.join(base_folder, folder, \".placeholder\")\n",
    "    with open(path, \"w\") as f:\n",
    "        f.write(\"\")  # Empty content\n",
    "print(\"Placeholder files added to empty folders.\")"
   ]
  },
  {
   "cell_type": "code",
   "execution_count": 8,
   "metadata": {
    "id": "XVgbLZZHgcMp"
   },
   "outputs": [],
   "source": [
    "# Import required libraries\n",
    "import numpy as np\n",
    "import matplotlib.pyplot as plt\n",
    "import seaborn as sns\n",
    "from tensorflow.keras.datasets import mnist\n",
    "from tensorflow.keras.utils import to_categorical\n",
    "from tensorflow.keras.preprocessing.image import ImageDataGenerator"
   ]
  },
  {
   "cell_type": "code",
   "execution_count": 9,
   "metadata": {
    "colab": {
     "base_uri": "https://localhost:8080/"
    },
    "id": "AR-1af3vjuw8",
    "outputId": "51e0edf8-a30f-4b27-90a5-bd97ff6c02d1"
   },
   "outputs": [
    {
     "name": "stdout",
     "output_type": "stream",
     "text": [
      "Downloading data from https://storage.googleapis.com/tensorflow/tf-keras-datasets/mnist.npz\n",
      "\u001b[1m11490434/11490434\u001b[0m \u001b[32m━━━━━━━━━━━━━━━━━━━━\u001b[0m\u001b[37m\u001b[0m \u001b[1m0s\u001b[0m 0us/step\n",
      "Training Data Shape: (60000, 28, 28)\n",
      "Test Data Shape: (10000, 28, 28)\n",
      "Unique Classes: [0 1 2 3 4 5 6 7 8 9]\n"
     ]
    }
   ],
   "source": [
    "# Load MNIST dataset\n",
    "(X_train, y_train), (X_test, y_test) = mnist.load_data()\n",
    "\n",
    "# Display dataset properties\n",
    "print(f\"Training Data Shape: {X_train.shape}\")  # (60000, 28, 28)\n",
    "print(f\"Test Data Shape: {X_test.shape}\")  # (10000, 28, 28)\n",
    "print(f\"Unique Classes: {np.unique(y_train)}\")  # Digits 0-9"
   ]
  },
  {
   "cell_type": "code",
   "execution_count": 10,
   "metadata": {
    "colab": {
     "base_uri": "https://localhost:8080/",
     "height": 920
    },
    "id": "5uLDgfdGjvoM",
    "outputId": "50417c94-aace-4cb4-dc93-aa81ef725e9e"
   },
   "outputs": [
    {
     "data": {
      "image/png": "[encoded data removed]",
      "text/plain": [
       "<Figure size 1000x500 with 10 Axes>"
      ]
     },
     "metadata": {},
     "output_type": "display_data"
    },
    {
     "data": {
      "image/png": "[encoded data removed]",
      "text/plain": [
       "<Figure size 640x480 with 1 Axes>"
      ]
     },
     "metadata": {},
     "output_type": "display_data"
    }
   ],
   "source": [
    "# Display sample images with labels\n",
    "plt.figure(figsize=(10, 5))\n",
    "for i in range(10):\n",
    "    plt.subplot(2, 5, i + 1)\n",
    "    plt.imshow(X_train[i], cmap='gray')\n",
    "    plt.title(f\"Label: {y_train[i]}\")\n",
    "    plt.axis('off')\n",
    "plt.tight_layout()\n",
    "plt.show()\n",
    "\n",
    "# Plot class distribution\n",
    "sns.countplot(y_train)\n",
    "plt.title(\"Class Distribution in Training Data\")\n",
    "plt.xlabel(\"Digit Class\")\n",
    "plt.ylabel(\"Frequency\")\n",
    "plt.show()"
   ]
  },
  {
   "cell_type": "code",
   "execution_count": 11,
   "metadata": {
    "colab": {
     "base_uri": "https://localhost:8080/"
    },
    "id": "bNaEkuAqj0C7",
    "outputId": "34aa08d5-ed91-4f63-b0c9-3148d18a906c"
   },
   "outputs": [
    {
     "name": "stdout",
     "output_type": "stream",
     "text": [
      "Training Data Shape After Reshaping: (60000, 28, 28, 1)\n"
     ]
    }
   ],
   "source": [
    "# Normalize pixel values to [0, 1]\n",
    "X_train = X_train.astype('float32') / 255.0\n",
    "X_test = X_test.astype('float32') / 255.0\n",
    "\n",
    "# Reshape to include channel dimension (28, 28, 1)\n",
    "X_train = X_train.reshape(-1, 28, 28, 1)\n",
    "X_test = X_test.reshape(-1, 28, 28, 1)\n",
    "\n",
    "print(f\"Training Data Shape After Reshaping: {X_train.shape}\")\n"
   ]
  },
  {
   "cell_type": "code",
   "execution_count": 12,
   "metadata": {
    "colab": {
     "base_uri": "https://localhost:8080/"
    },
    "id": "cPunXrbjj5qq",
    "outputId": "ddab0196-9b15-449c-f7c4-c864994e3c3b"
   },
   "outputs": [
    {
     "name": "stdout",
     "output_type": "stream",
     "text": [
      "One-hot Encoded Labels Shape: (60000, 10)\n"
     ]
    }
   ],
   "source": [
    "# One-hot encode labels\n",
    "y_train = to_categorical(y_train, 10)\n",
    "y_test = to_categorical(y_test, 10)\n",
    "\n",
    "print(f\"One-hot Encoded Labels Shape: {y_train.shape}\")  # (60000, 10)"
   ]
  },
  {
   "cell_type": "code",
   "execution_count": 13,
   "metadata": {
    "colab": {
     "base_uri": "https://localhost:8080/",
     "height": 433
    },
    "id": "uk6doVW9kSIL",
    "outputId": "54914d35-da77-48c9-ce3c-c37dbc4311d5"
   },
   "outputs": [
    {
     "data": {
      "image/png": "[encoded data removed]",
      "text/plain": [
       "<Figure size 1000x500 with 10 Axes>"
      ]
     },
     "metadata": {},
     "output_type": "display_data"
    }
   ],
   "source": [
    "# Define ImageDataGenerator for augmentation\n",
    "datagen = ImageDataGenerator(\n",
    "    rotation_range=10,      # Random rotation\n",
    "    width_shift_range=0.1,  # Horizontal shift\n",
    "    height_shift_range=0.1, # Vertical shift\n",
    "    zoom_range=0.1          # Zoom\n",
    ")\n",
    "\n",
    "# Fit generator on training data\n",
    "datagen.fit(X_train)\n",
    "\n",
    "# Visualize augmented images\n",
    "plt.figure(figsize=(10, 5))\n",
    "for X_batch, _ in datagen.flow(X_train, y_train, batch_size=10, shuffle=False):\n",
    "    for i in range(10):\n",
    "        plt.subplot(2, 5, i + 1)\n",
    "        plt.imshow(X_batch[i].reshape(28, 28), cmap='gray')\n",
    "        plt.axis('off')\n",
    "    break  # Show one batch\n",
    "plt.tight_layout()\n",
    "plt.show()"
   ]
  },
  {
   "cell_type": "code",
   "execution_count": 14,
   "metadata": {
    "colab": {
     "base_uri": "https://localhost:8080/"
    },
    "id": "5qsDf9LxkVDk",
    "outputId": "593d04b3-c8c7-41da-92ee-e62e5baca091"
   },
   "outputs": [
    {
     "name": "stdout",
     "output_type": "stream",
     "text": [
      "Preprocessed data saved successfully.\n"
     ]
    }
   ],
   "source": [
    "# Save preprocessed data to output folder\n",
    "output_folder = \"/content/Handwritten_Digit_Recognition/output/\"\n",
    "os.makedirs(output_folder, exist_ok=True)\n",
    "\n",
    "np.save(output_folder + \"X_train.npy\", X_train)\n",
    "np.save(output_folder + \"y_train.npy\", y_train)\n",
    "np.save(output_folder + \"X_test.npy\", X_test)\n",
    "np.save(output_folder + \"y_test.npy\", y_test)\n",
    "\n",
    "print(\"Preprocessed data saved successfully.\")\n"
   ]
  },
  {
   "cell_type": "code",
   "execution_count": 15,
   "metadata": {
    "colab": {
     "base_uri": "https://localhost:8080/"
    },
    "id": "a9HdYs3JkZeu",
    "outputId": "d797b82b-e881-4a1d-b1ce-3d9f55a358a6"
   },
   "outputs": [
    {
     "name": "stderr",
     "output_type": "stream",
     "text": [
      "/usr/local/lib/python3.10/dist-packages/keras/src/layers/reshaping/flatten.py:37: UserWarning: Do not pass an `input_shape`/`input_dim` argument to a layer. When using Sequential models, prefer using an `Input(shape)` object as the first layer in the model instead.\n",
      "  super().__init__(**kwargs)\n"
     ]
    },
    {
     "name": "stdout",
     "output_type": "stream",
     "text": [
      "Epoch 1/10\n",
      "\u001b[1m1500/1500\u001b[0m \u001b[32m━━━━━━━━━━━━━━━━━━━━\u001b[0m\u001b[37m\u001b[0m \u001b[1m10s\u001b[0m 6ms/step - accuracy: 0.8627 - loss: 0.4721 - val_accuracy: 0.9617 - val_loss: 0.1334\n",
      "Epoch 2/10\n",
      "\u001b[1m1500/1500\u001b[0m \u001b[32m━━━━━━━━━━━━━━━━━━━━\u001b[0m\u001b[37m\u001b[0m \u001b[1m7s\u001b[0m 4ms/step - accuracy: 0.9643 - loss: 0.1169 - val_accuracy: 0.9680 - val_loss: 0.1061\n",
      "Epoch 3/10\n",
      "\u001b[1m1500/1500\u001b[0m \u001b[32m━━━━━━━━━━━━━━━━━━━━\u001b[0m\u001b[37m\u001b[0m \u001b[1m10s\u001b[0m 6ms/step - accuracy: 0.9781 - loss: 0.0742 - val_accuracy: 0.9641 - val_loss: 0.1212\n",
      "Epoch 4/10\n",
      "\u001b[1m1500/1500\u001b[0m \u001b[32m━━━━━━━━━━━━━━━━━━━━\u001b[0m\u001b[37m\u001b[0m \u001b[1m6s\u001b[0m 4ms/step - accuracy: 0.9822 - loss: 0.0550 - val_accuracy: 0.9715 - val_loss: 0.1007\n",
      "Epoch 5/10\n",
      "\u001b[1m1500/1500\u001b[0m \u001b[32m━━━━━━━━━━━━━━━━━━━━\u001b[0m\u001b[37m\u001b[0m \u001b[1m8s\u001b[0m 5ms/step - accuracy: 0.9855 - loss: 0.0457 - val_accuracy: 0.9736 - val_loss: 0.0928\n",
      "Epoch 6/10\n",
      "\u001b[1m1500/1500\u001b[0m \u001b[32m━━━━━━━━━━━━━━━━━━━━\u001b[0m\u001b[37m\u001b[0m \u001b[1m8s\u001b[0m 4ms/step - accuracy: 0.9888 - loss: 0.0340 - val_accuracy: 0.9718 - val_loss: 0.1036\n",
      "Epoch 7/10\n",
      "\u001b[1m1500/1500\u001b[0m \u001b[32m━━━━━━━━━━━━━━━━━━━━\u001b[0m\u001b[37m\u001b[0m \u001b[1m10s\u001b[0m 4ms/step - accuracy: 0.9920 - loss: 0.0247 - val_accuracy: 0.9757 - val_loss: 0.0941\n",
      "Epoch 8/10\n",
      "\u001b[1m1500/1500\u001b[0m \u001b[32m━━━━━━━━━━━━━━━━━━━━\u001b[0m\u001b[37m\u001b[0m \u001b[1m11s\u001b[0m 4ms/step - accuracy: 0.9939 - loss: 0.0197 - val_accuracy: 0.9731 - val_loss: 0.1030\n",
      "Epoch 9/10\n",
      "\u001b[1m1500/1500\u001b[0m \u001b[32m━━━━━━━━━━━━━━━━━━━━\u001b[0m\u001b[37m\u001b[0m \u001b[1m11s\u001b[0m 5ms/step - accuracy: 0.9936 - loss: 0.0195 - val_accuracy: 0.9716 - val_loss: 0.1156\n",
      "Epoch 10/10\n",
      "\u001b[1m1500/1500\u001b[0m \u001b[32m━━━━━━━━━━━━━━━━━━━━\u001b[0m\u001b[37m\u001b[0m \u001b[1m5s\u001b[0m 4ms/step - accuracy: 0.9947 - loss: 0.0168 - val_accuracy: 0.9751 - val_loss: 0.0979\n"
     ]
    },
    {
     "name": "stderr",
     "output_type": "stream",
     "text": [
      "WARNING:absl:You are saving your model as an HDF5 file via `model.save()` or `keras.saving.save_model(model)`. This file format is considered legacy. We recommend using instead the native Keras format, e.g. `model.save('my_model.keras')` or `keras.saving.save_model(model, 'my_model.keras')`. \n"
     ]
    },
    {
     "name": "stdout",
     "output_type": "stream",
     "text": [
      "\u001b[1m313/313\u001b[0m \u001b[32m━━━━━━━━━━━━━━━━━━━━\u001b[0m\u001b[37m\u001b[0m \u001b[1m1s\u001b[0m 2ms/step - accuracy: 0.9754 - loss: 0.1087\n",
      "Test Accuracy: 0.98\n"
     ]
    }
   ],
   "source": [
    "# Import libraries\n",
    "import tensorflow as tf\n",
    "from tensorflow.keras.models import Sequential\n",
    "from tensorflow.keras.layers import Dense, Flatten\n",
    "from tensorflow.keras.datasets import mnist\n",
    "from tensorflow.keras.utils import to_categorical\n",
    "\n",
    "# Load MNIST dataset\n",
    "(X_train, y_train), (X_test, y_test) = mnist.load_data()\n",
    "\n",
    "# Preprocess the data\n",
    "X_train = X_train.astype(\"float32\") / 255.0  # Normalize pixel values to [0, 1]\n",
    "X_test = X_test.astype(\"float32\") / 255.0\n",
    "y_train = to_categorical(y_train, 10)  # One-hot encoding\n",
    "y_test = to_categorical(y_test, 10)\n",
    "\n",
    "# Define the MLP model\n",
    "mlp_model = Sequential([\n",
    "    Flatten(input_shape=(28, 28)),  # Flatten the 28x28 image into a vector\n",
    "    Dense(128, activation='relu'),  # First hidden layer\n",
    "    Dense(64, activation='relu'),   # Second hidden layer\n",
    "    Dense(10, activation='softmax') # Output layer with 10 classes\n",
    "])\n",
    "\n",
    "# Compile the model\n",
    "mlp_model.compile(optimizer='adam',\n",
    "                  loss='categorical_crossentropy',\n",
    "                  metrics=['accuracy'])\n",
    "\n",
    "# Train the model\n",
    "mlp_model.fit(X_train, y_train, validation_split=0.2, epochs=10, batch_size=32)\n",
    "\n",
    "# Save the model\n",
    "mlp_model.save(\"/content/Handwritten_Digit_Recognition/output/mlp_model.h5\")\n",
    "\n",
    "# Evaluate the model\n",
    "test_loss, test_acc = mlp_model.evaluate(X_test, y_test)\n",
    "print(f\"Test Accuracy: {test_acc:.2f}\")"
   ]
  },
  {
   "cell_type": "code",
   "execution_count": 16,
   "metadata": {
    "colab": {
     "base_uri": "https://localhost:8080/"
    },
    "id": "8lwxIJbJnS6C",
    "outputId": "e6d2bdaf-e915-4f0f-d03b-55936a7e22f5"
   },
   "outputs": [
    {
     "name": "stderr",
     "output_type": "stream",
     "text": [
      "/usr/local/lib/python3.10/dist-packages/keras/src/layers/convolutional/base_conv.py:107: UserWarning: Do not pass an `input_shape`/`input_dim` argument to a layer. When using Sequential models, prefer using an `Input(shape)` object as the first layer in the model instead.\n",
      "  super().__init__(activity_regularizer=activity_regularizer, **kwargs)\n"
     ]
    },
    {
     "name": "stdout",
     "output_type": "stream",
     "text": [
      "Epoch 1/10\n",
      "\u001b[1m1500/1500\u001b[0m \u001b[32m━━━━━━━━━━━━━━━━━━━━\u001b[0m\u001b[37m\u001b[0m \u001b[1m60s\u001b[0m 39ms/step - accuracy: 0.8170 - loss: 0.5719 - val_accuracy: 0.9805 - val_loss: 0.0667\n",
      "Epoch 2/10\n",
      "\u001b[1m1500/1500\u001b[0m \u001b[32m━━━━━━━━━━━━━━━━━━━━\u001b[0m\u001b[37m\u001b[0m \u001b[1m55s\u001b[0m 37ms/step - accuracy: 0.9645 - loss: 0.1215 - val_accuracy: 0.9854 - val_loss: 0.0476\n",
      "Epoch 3/10\n",
      "\u001b[1m1500/1500\u001b[0m \u001b[32m━━━━━━━━━━━━━━━━━━━━\u001b[0m\u001b[37m\u001b[0m \u001b[1m81s\u001b[0m 36ms/step - accuracy: 0.9734 - loss: 0.0867 - val_accuracy: 0.9877 - val_loss: 0.0413\n",
      "Epoch 4/10\n",
      "\u001b[1m1500/1500\u001b[0m \u001b[32m━━━━━━━━━━━━━━━━━━━━\u001b[0m\u001b[37m\u001b[0m \u001b[1m56s\u001b[0m 38ms/step - accuracy: 0.9773 - loss: 0.0747 - val_accuracy: 0.9871 - val_loss: 0.0401\n",
      "Epoch 5/10\n",
      "\u001b[1m1500/1500\u001b[0m \u001b[32m━━━━━━━━━━━━━━━━━━━━\u001b[0m\u001b[37m\u001b[0m \u001b[1m80s\u001b[0m 36ms/step - accuracy: 0.9809 - loss: 0.0665 - val_accuracy: 0.9890 - val_loss: 0.0384\n",
      "Epoch 6/10\n",
      "\u001b[1m1500/1500\u001b[0m \u001b[32m━━━━━━━━━━━━━━━━━━━━\u001b[0m\u001b[37m\u001b[0m \u001b[1m57s\u001b[0m 38ms/step - accuracy: 0.9829 - loss: 0.0572 - val_accuracy: 0.9900 - val_loss: 0.0346\n",
      "Epoch 7/10\n",
      "\u001b[1m1500/1500\u001b[0m \u001b[32m━━━━━━━━━━━━━━━━━━━━\u001b[0m\u001b[37m\u001b[0m \u001b[1m56s\u001b[0m 37ms/step - accuracy: 0.9831 - loss: 0.0572 - val_accuracy: 0.9893 - val_loss: 0.0361\n",
      "Epoch 8/10\n",
      "\u001b[1m1500/1500\u001b[0m \u001b[32m━━━━━━━━━━━━━━━━━━━━\u001b[0m\u001b[37m\u001b[0m \u001b[1m81s\u001b[0m 37ms/step - accuracy: 0.9851 - loss: 0.0456 - val_accuracy: 0.9900 - val_loss: 0.0359\n",
      "Epoch 9/10\n",
      "\u001b[1m1500/1500\u001b[0m \u001b[32m━━━━━━━━━━━━━━━━━━━━\u001b[0m\u001b[37m\u001b[0m \u001b[1m56s\u001b[0m 38ms/step - accuracy: 0.9854 - loss: 0.0437 - val_accuracy: 0.9903 - val_loss: 0.0358\n",
      "Epoch 10/10\n",
      "\u001b[1m1500/1500\u001b[0m \u001b[32m━━━━━━━━━━━━━━━━━━━━\u001b[0m\u001b[37m\u001b[0m \u001b[1m80s\u001b[0m 36ms/step - accuracy: 0.9867 - loss: 0.0416 - val_accuracy: 0.9908 - val_loss: 0.0328\n"
     ]
    },
    {
     "name": "stderr",
     "output_type": "stream",
     "text": [
      "WARNING:absl:You are saving your model as an HDF5 file via `model.save()` or `keras.saving.save_model(model)`. This file format is considered legacy. We recommend using instead the native Keras format, e.g. `model.save('my_model.keras')` or `keras.saving.save_model(model, 'my_model.keras')`. \n"
     ]
    },
    {
     "name": "stdout",
     "output_type": "stream",
     "text": [
      "\u001b[1m313/313\u001b[0m \u001b[32m━━━━━━━━━━━━━━━━━━━━\u001b[0m\u001b[37m\u001b[0m \u001b[1m5s\u001b[0m 14ms/step - accuracy: 0.9887 - loss: 0.0347\n",
      "Test Accuracy: 0.99\n"
     ]
    }
   ],
   "source": [
    "# Import libraries\n",
    "from tensorflow.keras.layers import Conv2D, MaxPooling2D, Dropout\n",
    "from tensorflow.keras.models import Sequential\n",
    "\n",
    "# Reshape data for CNN\n",
    "X_train = X_train.reshape(-1, 28, 28, 1)  # Add channel dimension\n",
    "X_test = X_test.reshape(-1, 28, 28, 1)\n",
    "\n",
    "# Define the CNN model\n",
    "cnn_model = Sequential([\n",
    "    Conv2D(32, (3, 3), activation='relu', input_shape=(28, 28, 1)),  # First conv layer\n",
    "    MaxPooling2D((2, 2)),  # Max pooling\n",
    "    Dropout(0.25),  # Dropout for regularization\n",
    "    Conv2D(64, (3, 3), activation='relu'),  # Second conv layer\n",
    "    MaxPooling2D((2, 2)),\n",
    "    Dropout(0.25),\n",
    "    Flatten(),  # Flatten to pass into Dense layers\n",
    "    Dense(128, activation='relu'),  # Fully connected layer\n",
    "    Dropout(0.5),\n",
    "    Dense(10, activation='softmax')  # Output layer\n",
    "])\n",
    "\n",
    "# Compile the model\n",
    "cnn_model.compile(optimizer='adam',\n",
    "                  loss='categorical_crossentropy',\n",
    "                  metrics=['accuracy'])\n",
    "\n",
    "# Train the model\n",
    "cnn_model.fit(X_train, y_train, validation_split=0.2, epochs=10, batch_size=32)\n",
    "\n",
    "# Save the model\n",
    "cnn_model.save(\"/content/Handwritten_Digit_Recognition/output/cnn_model.h5\")\n",
    "\n",
    "# Evaluate the model\n",
    "test_loss, test_acc = cnn_model.evaluate(X_test, y_test)\n",
    "print(f\"Test Accuracy: {test_acc:.2f}\")"
   ]
  },
  {
   "cell_type": "code",
   "execution_count": 17,
   "metadata": {
    "colab": {
     "base_uri": "https://localhost:8080/"
    },
    "id": "6P6j3C_qnXxJ",
    "outputId": "b4a3bf64-10a1-46a4-b031-7c0a5c82bb6d"
   },
   "outputs": [
    {
     "name": "stdout",
     "output_type": "stream",
     "text": [
      "Epoch 1/10\n",
      "\u001b[1m1500/1500\u001b[0m \u001b[32m━━━━━━━━━━━━━━━━━━━━\u001b[0m\u001b[37m\u001b[0m \u001b[1m32s\u001b[0m 20ms/step - accuracy: 0.8739 - loss: 0.4148 - val_accuracy: 0.9749 - val_loss: 0.0830\n",
      "Epoch 2/10\n",
      "\u001b[1m1500/1500\u001b[0m \u001b[32m━━━━━━━━━━━━━━━━━━━━\u001b[0m\u001b[37m\u001b[0m \u001b[1m30s\u001b[0m 20ms/step - accuracy: 0.9790 - loss: 0.0716 - val_accuracy: 0.9780 - val_loss: 0.0736\n",
      "Epoch 3/10\n",
      "\u001b[1m1500/1500\u001b[0m \u001b[32m━━━━━━━━━━━━━━━━━━━━\u001b[0m\u001b[37m\u001b[0m \u001b[1m30s\u001b[0m 20ms/step - accuracy: 0.9850 - loss: 0.0471 - val_accuracy: 0.9827 - val_loss: 0.0594\n",
      "Epoch 4/10\n",
      "\u001b[1m1500/1500\u001b[0m \u001b[32m━━━━━━━━━━━━━━━━━━━━\u001b[0m\u001b[37m\u001b[0m \u001b[1m27s\u001b[0m 18ms/step - accuracy: 0.9887 - loss: 0.0347 - val_accuracy: 0.9823 - val_loss: 0.0619\n",
      "Epoch 5/10\n",
      "\u001b[1m1500/1500\u001b[0m \u001b[32m━━━━━━━━━━━━━━━━━━━━\u001b[0m\u001b[37m\u001b[0m \u001b[1m40s\u001b[0m 17ms/step - accuracy: 0.9910 - loss: 0.0284 - val_accuracy: 0.9798 - val_loss: 0.0684\n",
      "Epoch 6/10\n",
      "\u001b[1m1500/1500\u001b[0m \u001b[32m━━━━━━━━━━━━━━━━━━━━\u001b[0m\u001b[37m\u001b[0m \u001b[1m28s\u001b[0m 18ms/step - accuracy: 0.9932 - loss: 0.0211 - val_accuracy: 0.9850 - val_loss: 0.0519\n",
      "Epoch 7/10\n",
      "\u001b[1m1500/1500\u001b[0m \u001b[32m━━━━━━━━━━━━━━━━━━━━\u001b[0m\u001b[37m\u001b[0m \u001b[1m42s\u001b[0m 19ms/step - accuracy: 0.9948 - loss: 0.0165 - val_accuracy: 0.9823 - val_loss: 0.0624\n",
      "Epoch 8/10\n",
      "\u001b[1m1500/1500\u001b[0m \u001b[32m━━━━━━━━━━━━━━━━━━━━\u001b[0m\u001b[37m\u001b[0m \u001b[1m28s\u001b[0m 19ms/step - accuracy: 0.9956 - loss: 0.0140 - val_accuracy: 0.9828 - val_loss: 0.0660\n",
      "Epoch 9/10\n",
      "\u001b[1m1500/1500\u001b[0m \u001b[32m━━━━━━━━━━━━━━━━━━━━\u001b[0m\u001b[37m\u001b[0m \u001b[1m40s\u001b[0m 18ms/step - accuracy: 0.9957 - loss: 0.0131 - val_accuracy: 0.9841 - val_loss: 0.0593\n",
      "Epoch 10/10\n",
      "\u001b[1m1500/1500\u001b[0m \u001b[32m━━━━━━━━━━━━━━━━━━━━\u001b[0m\u001b[37m\u001b[0m \u001b[1m40s\u001b[0m 18ms/step - accuracy: 0.9974 - loss: 0.0081 - val_accuracy: 0.9851 - val_loss: 0.0601\n"
     ]
    },
    {
     "name": "stderr",
     "output_type": "stream",
     "text": [
      "WARNING:absl:You are saving your model as an HDF5 file via `model.save()` or `keras.saving.save_model(model)`. This file format is considered legacy. We recommend using instead the native Keras format, e.g. `model.save('my_model.keras')` or `keras.saving.save_model(model, 'my_model.keras')`. \n"
     ]
    },
    {
     "name": "stdout",
     "output_type": "stream",
     "text": [
      "\u001b[1m313/313\u001b[0m \u001b[32m━━━━━━━━━━━━━━━━━━━━\u001b[0m\u001b[37m\u001b[0m \u001b[1m3s\u001b[0m 9ms/step - accuracy: 0.9828 - loss: 0.0588\n",
      "Test Accuracy: 0.99\n"
     ]
    }
   ],
   "source": [
    "# Define the LeNet model\n",
    "lenet_model = Sequential([\n",
    "    Conv2D(6, (5, 5), activation='tanh', input_shape=(28, 28, 1)),  # First conv layer\n",
    "    MaxPooling2D((2, 2)),  # First pooling layer\n",
    "    Conv2D(16, (5, 5), activation='tanh'),  # Second conv layer\n",
    "    MaxPooling2D((2, 2)),  # Second pooling layer\n",
    "    Flatten(),  # Flatten for Dense layers\n",
    "    Dense(120, activation='tanh'),  # First fully connected layer\n",
    "    Dense(84, activation='tanh'),  # Second fully connected layer\n",
    "    Dense(10, activation='softmax')  # Output layer\n",
    "])\n",
    "\n",
    "# Compile the model\n",
    "lenet_model.compile(optimizer='adam',\n",
    "                    loss='categorical_crossentropy',\n",
    "                    metrics=['accuracy'])\n",
    "\n",
    "# Train the model\n",
    "lenet_model.fit(X_train, y_train, validation_split=0.2, epochs=10, batch_size=32)\n",
    "\n",
    "# Save the model\n",
    "lenet_model.save(\"/content/Handwritten_Digit_Recognition/output/lenet_model.h5\")\n",
    "\n",
    "# Evaluate the model\n",
    "test_loss, test_acc = lenet_model.evaluate(X_test, y_test)\n",
    "print(f\"Test Accuracy: {test_acc:.2f}\")\n"
   ]
  },
  {
   "cell_type": "code",
   "execution_count": 29,
   "metadata": {
    "id": "Qq4QFp0vwB0-"
   },
   "outputs": [],
   "source": [
    "import tensorflow as tf\n",
    "from tensorflow.keras.preprocessing.image import ImageDataGenerator\n",
    "\n",
    "# Data pipeline function\n",
    "def create_data_pipeline(train_images, train_labels, batch_size=32):\n",
    "    \"\"\"\n",
    "    Creates a data pipeline with data augmentation using ImageDataGenerator.\n",
    "\n",
    "    Arguments:\n",
    "    - train_images: Training image data (numpy array)\n",
    "    - train_labels: Training labels (numpy array)\n",
    "    - batch_size: Batch size for training (default is 32)\n",
    "\n",
    "    Returns:\n",
    "    - train_generator: A generator for the training data\n",
    "    \"\"\"\n",
    "\n",
    "    # Define data augmentation steps\n",
    "    datagen = ImageDataGenerator(\n",
    "        rotation_range=10,      # Rotate images by up to 10 degrees\n",
    "        width_shift_range=0.1,  # Shift images horizontally by up to 10%\n",
    "        height_shift_range=0.1, # Shift images vertically by up to 10%\n",
    "        zoom_range=0.1,         # Zoom images by up to 10%\n",
    "        shear_range=0.1,        # Shear images by up to 10%\n",
    "        horizontal_flip=True,   # Randomly flip images horizontally\n",
    "        fill_mode='nearest'     # Fill pixels that are missing after transformations\n",
    "    )\n",
    "\n",
    "    # Fit the data generator to the training data\n",
    "    datagen.fit(train_images)\n",
    "\n",
    "    # Return the data generator\n",
    "    return datagen.flow(train_images, train_labels, batch_size=batch_size)\n"
   ]
  },
  {
   "cell_type": "code",
   "execution_count": 30,
   "metadata": {
    "colab": {
     "base_uri": "https://localhost:8080/"
    },
    "id": "i4YebcmMwFCF",
    "outputId": "77551f8f-7d23-412d-dd19-f5672f51d0a8"
   },
   "outputs": [
    {
     "name": "stdout",
     "output_type": "stream",
     "text": [
      "Writing datapipeline.py\n"
     ]
    }
   ],
   "source": [
    "%%writefile datapipeline.py\n",
    "import tensorflow as tf\n",
    "from tensorflow.keras.preprocessing.image import ImageDataGenerator\n",
    "\n",
    "# Data pipeline function\n",
    "def create_data_pipeline(train_images, train_labels, batch_size=32):\n",
    "    \"\"\"\n",
    "    Creates a data pipeline with data augmentation using ImageDataGenerator.\n",
    "\n",
    "    Arguments:\n",
    "    - train_images: Training image data (numpy array)\n",
    "    - train_labels: Training labels (numpy array)\n",
    "    - batch_size: Batch size for training (default is 32)\n",
    "\n",
    "    Returns:\n",
    "    - train_generator: A generator for the training data\n",
    "    \"\"\"\n",
    "\n",
    "    # Define data augmentation steps\n",
    "    datagen = ImageDataGenerator(\n",
    "        rotation_range=10,      # Rotate images by up to 10 degrees\n",
    "        width_shift_range=0.1,  # Shift images horizontally by up to 10%\n",
    "        height_shift_range=0.1, # Shift images vertically by up to 10%\n",
    "        zoom_range=0.1,         # Zoom images by up to 10%\n",
    "        shear_range=0.1,        # Shear images by up to 10%\n",
    "        horizontal_flip=True,   # Randomly flip images horizontally\n",
    "        fill_mode='nearest'     # Fill pixels that are missing after transformations\n",
    "    )\n",
    "\n",
    "    # Fit the data generator to the training data\n",
    "    datagen.fit(train_images)\n",
    "\n",
    "    # Return the data generator\n",
    "    return datagen.flow(train_images, train_labels, batch_size=batch_size)\n"
   ]
  },
  {
   "cell_type": "code",
   "execution_count": 31,
   "metadata": {
    "colab": {
     "base_uri": "https://localhost:8080/"
    },
    "id": "zES4o5vqtXRX",
    "outputId": "7d7d7223-291f-46e6-e2b4-ba6e237d952e"
   },
   "outputs": [
    {
     "name": "stdout",
     "output_type": "stream",
     "text": [
      "Epoch 1/10\n",
      "\u001b[1m   1/1875\u001b[0m \u001b[37m━━━━━━━━━━━━━━━━━━━━\u001b[0m \u001b[1m48:09\u001b[0m 2s/step - accuracy: 0.0312 - loss: 2.3210"
     ]
    },
    {
     "name": "stderr",
     "output_type": "stream",
     "text": [
      "/usr/local/lib/python3.10/dist-packages/keras/src/trainers/data_adapters/py_dataset_adapter.py:122: UserWarning: Your `PyDataset` class should call `super().__init__(**kwargs)` in its constructor. `**kwargs` can include `workers`, `use_multiprocessing`, `max_queue_size`. Do not pass these arguments to `fit()`, as they will be ignored.\n",
      "  self._warn_if_super_not_called()\n"
     ]
    },
    {
     "name": "stdout",
     "output_type": "stream",
     "text": [
      "\u001b[1m1875/1875\u001b[0m \u001b[32m━━━━━━━━━━━━━━━━━━━━\u001b[0m\u001b[37m\u001b[0m \u001b[1m85s\u001b[0m 45ms/step - accuracy: 0.6707 - loss: 0.9683\n",
      "Epoch 2/10\n",
      "\u001b[1m1875/1875\u001b[0m \u001b[32m━━━━━━━━━━━━━━━━━━━━\u001b[0m\u001b[37m\u001b[0m \u001b[1m0s\u001b[0m 12us/step - accuracy: 0.0000e+00 - loss: 0.0000e+00\n",
      "Epoch 3/10\n",
      "\u001b[1m   1/1875\u001b[0m \u001b[37m━━━━━━━━━━━━━━━━━━━━\u001b[0m \u001b[1m4:43\u001b[0m 151ms/step - accuracy: 0.8750 - loss: 0.3855"
     ]
    },
    {
     "name": "stderr",
     "output_type": "stream",
     "text": [
      "/usr/lib/python3.10/contextlib.py:153: UserWarning: Your input ran out of data; interrupting training. Make sure that your dataset or generator can generate at least `steps_per_epoch * epochs` batches. You may need to use the `.repeat()` function when building your dataset.\n",
      "  self.gen.throw(typ, value, traceback)\n"
     ]
    },
    {
     "name": "stdout",
     "output_type": "stream",
     "text": [
      "\u001b[1m1875/1875\u001b[0m \u001b[32m━━━━━━━━━━━━━━━━━━━━\u001b[0m\u001b[37m\u001b[0m \u001b[1m84s\u001b[0m 45ms/step - accuracy: 0.8961 - loss: 0.3324\n",
      "Epoch 4/10\n",
      "\u001b[1m1875/1875\u001b[0m \u001b[32m━━━━━━━━━━━━━━━━━━━━\u001b[0m\u001b[37m\u001b[0m \u001b[1m0s\u001b[0m 5us/step - accuracy: 0.0000e+00 - loss: 0.0000e+00\n",
      "Epoch 5/10\n",
      "\u001b[1m1875/1875\u001b[0m \u001b[32m━━━━━━━━━━━━━━━━━━━━\u001b[0m\u001b[37m\u001b[0m \u001b[1m141s\u001b[0m 44ms/step - accuracy: 0.9248 - loss: 0.2447\n",
      "Epoch 6/10\n",
      "\u001b[1m1875/1875\u001b[0m \u001b[32m━━━━━━━━━━━━━━━━━━━━\u001b[0m\u001b[37m\u001b[0m \u001b[1m0s\u001b[0m 4us/step - accuracy: 0.0000e+00 - loss: 0.0000e+00\n",
      "Epoch 7/10\n",
      "\u001b[1m1875/1875\u001b[0m \u001b[32m━━━━━━━━━━━━━━━━━━━━\u001b[0m\u001b[37m\u001b[0m \u001b[1m141s\u001b[0m 44ms/step - accuracy: 0.9399 - loss: 0.2023\n",
      "Epoch 8/10\n",
      "\u001b[1m1875/1875\u001b[0m \u001b[32m━━━━━━━━━━━━━━━━━━━━\u001b[0m\u001b[37m\u001b[0m \u001b[1m0s\u001b[0m 5us/step - accuracy: 0.0000e+00 - loss: 0.0000e+00\n",
      "Epoch 9/10\n",
      "\u001b[1m1875/1875\u001b[0m \u001b[32m━━━━━━━━━━━━━━━━━━━━\u001b[0m\u001b[37m\u001b[0m \u001b[1m82s\u001b[0m 44ms/step - accuracy: 0.9463 - loss: 0.1775\n",
      "Epoch 10/10\n",
      "\u001b[1m1875/1875\u001b[0m \u001b[32m━━━━━━━━━━━━━━━━━━━━\u001b[0m\u001b[37m\u001b[0m \u001b[1m0s\u001b[0m 5us/step - accuracy: 0.0000e+00 - loss: 0.0000e+00\n"
     ]
    },
    {
     "name": "stderr",
     "output_type": "stream",
     "text": [
      "WARNING:absl:You are saving your model as an HDF5 file via `model.save()` or `keras.saving.save_model(model)`. This file format is considered legacy. We recommend using instead the native Keras format, e.g. `model.save('my_model.keras')` or `keras.saving.save_model(model, 'my_model.keras')`. \n"
     ]
    },
    {
     "name": "stdout",
     "output_type": "stream",
     "text": [
      "Model training complete and saved.\n",
      "\u001b[1m313/313\u001b[0m \u001b[32m━━━━━━━━━━━━━━━━━━━━\u001b[0m\u001b[37m\u001b[0m \u001b[1m3s\u001b[0m 10ms/step - accuracy: 0.9768 - loss: 0.0659\n",
      "Test Accuracy: 0.9825000166893005\n"
     ]
    }
   ],
   "source": [
    "# main.py\n",
    "import tensorflow as tf\n",
    "from tensorflow.keras.models import Sequential\n",
    "from tensorflow.keras.layers import Dense, Conv2D, MaxPooling2D, Flatten, Dropout\n",
    "from tensorflow.keras.datasets import mnist\n",
    "from tensorflow.keras.utils import to_categorical\n",
    "from tensorflow.keras.preprocessing.image import ImageDataGenerator\n",
    "from datapipeline import create_data_pipeline  # Import your data pipeline from datapipeline.py\n",
    "\n",
    "# Load MNIST dataset\n",
    "(train_images, train_labels), (test_images, test_labels) = mnist.load_data()\n",
    "\n",
    "# Reshape the images to (28, 28, 1) to match the input expected by CNNs (grayscale images)\n",
    "train_images = train_images.reshape((train_images.shape[0], 28, 28, 1))\n",
    "test_images = test_images.reshape((test_images.shape[0], 28, 28, 1))\n",
    "\n",
    "# Normalize the pixel values to [0, 1]\n",
    "train_images, test_images = train_images / 255.0, test_images / 255.0\n",
    "\n",
    "# One-hot encode the labels\n",
    "train_labels = to_categorical(train_labels)\n",
    "test_labels = to_categorical(test_labels)\n",
    "\n",
    "# Data augmentation\n",
    "datagen = ImageDataGenerator(\n",
    "    rotation_range=10,      # Rotate images by up to 10 degrees\n",
    "    width_shift_range=0.1,  # Shift images horizontally by up to 10%\n",
    "    height_shift_range=0.1, # Shift images vertically by up to 10%\n",
    "    zoom_range=0.1,         # Zoom images by up to 10%\n",
    "    shear_range=0.1,        # Shear images by up to 10%\n",
    "    horizontal_flip=True,   # Randomly flip images horizontally\n",
    "    fill_mode='nearest'     # Fill pixels that are missing after transformations\n",
    ")\n",
    "\n",
    "# Fit the data generator to the training data\n",
    "datagen.fit(train_images)\n",
    "\n",
    "# Create the model - CNN (Convolutional Neural Network)\n",
    "def create_cnn_model():\n",
    "    model = Sequential([\n",
    "        Conv2D(32, (3, 3), activation='relu', input_shape=(28, 28, 1)),\n",
    "        MaxPooling2D((2, 2)),\n",
    "        Conv2D(64, (3, 3), activation='relu'),\n",
    "        MaxPooling2D((2, 2)),\n",
    "        Flatten(),\n",
    "        Dense(128, activation='relu'),\n",
    "        Dropout(0.5),\n",
    "        Dense(10, activation='softmax')  # 10 output classes for MNIST digits\n",
    "    ])\n",
    "\n",
    "    model.compile(optimizer='adam', loss='categorical_crossentropy', metrics=['accuracy'])\n",
    "\n",
    "    return model\n",
    "\n",
    "# Create MLP Model\n",
    "def create_mlp_model():\n",
    "    model = Sequential([\n",
    "        Flatten(input_shape=(28, 28, 1)),\n",
    "        Dense(128, activation='relu'),\n",
    "        Dropout(0.5),\n",
    "        Dense(64, activation='relu'),\n",
    "        Dense(10, activation='softmax')  # 10 output classes for MNIST digits\n",
    "    ])\n",
    "\n",
    "    model.compile(optimizer='adam', loss='categorical_crossentropy', metrics=['accuracy'])\n",
    "\n",
    "    return model\n",
    "\n",
    "# Create LeNet Model\n",
    "def create_lenet_model():\n",
    "    model = Sequential([\n",
    "        Conv2D(6, (5, 5), activation='tanh', input_shape=(28, 28, 1)),\n",
    "        MaxPooling2D((2, 2)),\n",
    "        Conv2D(16, (5, 5), activation='tanh'),\n",
    "        MaxPooling2D((2, 2)),\n",
    "        Flatten(),\n",
    "        Dense(120, activation='tanh'),\n",
    "        Dense(84, activation='tanh'),\n",
    "        Dense(10, activation='softmax')  # 10 output classes for MNIST digits\n",
    "    ])\n",
    "\n",
    "    model.compile(optimizer='adam', loss='categorical_crossentropy', metrics=['accuracy'])\n",
    "\n",
    "    return model\n",
    "\n",
    "# Select the model you want to train\n",
    "model = create_cnn_model()  # You can change this to create_mlp_model() or create_lenet_model()\n",
    "\n",
    "# Train the model using the data pipeline\n",
    "train_generator = create_data_pipeline(train_images, train_labels)\n",
    "\n",
    "# Fit the model\n",
    "model.fit(train_generator, epochs=10, steps_per_epoch=len(train_images) // 32)\n",
    "\n",
    "# Save the trained model\n",
    "model.save('output/trained_model.h5')\n",
    "print(\"Model training complete and saved.\")\n",
    "\n",
    "# Evaluate the model on the test data\n",
    "test_loss, test_acc = model.evaluate(test_images, test_labels)\n",
    "print(f\"Test Accuracy: {test_acc}\")\n"
   ]
  },
  {
   "cell_type": "code",
   "execution_count": null,
   "metadata": {
    "id": "dRD4MtpgvlCm"
   },
   "outputs": [],
   "source": []
  }
 ],
 "metadata": {
  "colab": {
   "provenance": []
  },
  "kernelspec": {
   "display_name": "Python 3",
   "name": "python3"
  },
  "language_info": {
   "name": "python"
  }
 },
 "nbformat": 4,
 "nbformat_minor": 0
}
