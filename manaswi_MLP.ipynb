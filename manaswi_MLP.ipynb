{
  "nbformat": 4,
  "nbformat_minor": 0,
  "metadata": {
    "colab": {
      "provenance": []
    },
    "kernelspec": {
      "name": "python3",
      "display_name": "Python 3"
    },
    "language_info": {
      "name": "python"
    }
  },
  "cells": [
    {
      "cell_type": "code",
      "execution_count": 1,
      "metadata": {
        "colab": {
          "base_uri": "https://localhost:8080/"
        },
        "id": "KS4C3TUVRkIy",
        "outputId": "107bd00d-900f-4885-d161-1a60c9aaeb71"
      },
      "outputs": [
        {
          "output_type": "stream",
          "name": "stdout",
          "text": [
            "Downloading http://yann.lecun.com/exdb/mnist/train-images-idx3-ubyte.gz\n",
            "Failed to download (trying next):\n",
            "HTTP Error 403: Forbidden\n",
            "\n",
            "Downloading https://ossci-datasets.s3.amazonaws.com/mnist/train-images-idx3-ubyte.gz\n",
            "Downloading https://ossci-datasets.s3.amazonaws.com/mnist/train-images-idx3-ubyte.gz to ./data/MNIST/raw/train-images-idx3-ubyte.gz\n"
          ]
        },
        {
          "output_type": "stream",
          "name": "stderr",
          "text": [
            "100%|██████████| 9.91M/9.91M [00:00<00:00, 17.1MB/s]\n"
          ]
        },
        {
          "output_type": "stream",
          "name": "stdout",
          "text": [
            "Extracting ./data/MNIST/raw/train-images-idx3-ubyte.gz to ./data/MNIST/raw\n",
            "\n",
            "Downloading http://yann.lecun.com/exdb/mnist/train-labels-idx1-ubyte.gz\n",
            "Failed to download (trying next):\n",
            "HTTP Error 403: Forbidden\n",
            "\n",
            "Downloading https://ossci-datasets.s3.amazonaws.com/mnist/train-labels-idx1-ubyte.gz\n",
            "Downloading https://ossci-datasets.s3.amazonaws.com/mnist/train-labels-idx1-ubyte.gz to ./data/MNIST/raw/train-labels-idx1-ubyte.gz\n"
          ]
        },
        {
          "output_type": "stream",
          "name": "stderr",
          "text": [
            "100%|██████████| 28.9k/28.9k [00:00<00:00, 496kB/s]\n"
          ]
        },
        {
          "output_type": "stream",
          "name": "stdout",
          "text": [
            "Extracting ./data/MNIST/raw/train-labels-idx1-ubyte.gz to ./data/MNIST/raw\n",
            "\n",
            "Downloading http://yann.lecun.com/exdb/mnist/t10k-images-idx3-ubyte.gz\n",
            "Failed to download (trying next):\n",
            "HTTP Error 403: Forbidden\n",
            "\n",
            "Downloading https://ossci-datasets.s3.amazonaws.com/mnist/t10k-images-idx3-ubyte.gz\n",
            "Downloading https://ossci-datasets.s3.amazonaws.com/mnist/t10k-images-idx3-ubyte.gz to ./data/MNIST/raw/t10k-images-idx3-ubyte.gz\n"
          ]
        },
        {
          "output_type": "stream",
          "name": "stderr",
          "text": [
            "100%|██████████| 1.65M/1.65M [00:00<00:00, 4.52MB/s]\n"
          ]
        },
        {
          "output_type": "stream",
          "name": "stdout",
          "text": [
            "Extracting ./data/MNIST/raw/t10k-images-idx3-ubyte.gz to ./data/MNIST/raw\n",
            "\n",
            "Downloading http://yann.lecun.com/exdb/mnist/t10k-labels-idx1-ubyte.gz\n",
            "Failed to download (trying next):\n",
            "HTTP Error 403: Forbidden\n",
            "\n",
            "Downloading https://ossci-datasets.s3.amazonaws.com/mnist/t10k-labels-idx1-ubyte.gz\n",
            "Downloading https://ossci-datasets.s3.amazonaws.com/mnist/t10k-labels-idx1-ubyte.gz to ./data/MNIST/raw/t10k-labels-idx1-ubyte.gz\n"
          ]
        },
        {
          "output_type": "stream",
          "name": "stderr",
          "text": [
            "100%|██████████| 4.54k/4.54k [00:00<00:00, 2.33MB/s]\n"
          ]
        },
        {
          "output_type": "stream",
          "name": "stdout",
          "text": [
            "Extracting ./data/MNIST/raw/t10k-labels-idx1-ubyte.gz to ./data/MNIST/raw\n",
            "\n",
            "Epoch 1/10, Loss: 0.2358, Accuracy: 93.02%\n",
            "Epoch 2/10, Loss: 0.1220, Accuracy: 96.16%\n",
            "Epoch 3/10, Loss: 0.0963, Accuracy: 96.97%\n",
            "Epoch 4/10, Loss: 0.0799, Accuracy: 97.39%\n",
            "Epoch 5/10, Loss: 0.0714, Accuracy: 97.67%\n",
            "Epoch 6/10, Loss: 0.0612, Accuracy: 98.07%\n",
            "Epoch 7/10, Loss: 0.0566, Accuracy: 98.17%\n",
            "Epoch 8/10, Loss: 0.0501, Accuracy: 98.31%\n",
            "Epoch 9/10, Loss: 0.0481, Accuracy: 98.44%\n",
            "Epoch 10/10, Loss: 0.0442, Accuracy: 98.52%\n",
            "Test Accuracy: 98.40%\n"
          ]
        }
      ],
      "source": [
        "import torch  # Import PyTorch for building and training neural networks\n",
        "import torch.nn as nn  # Import the neural network module\n",
        "import torch.optim as optim  # Import optimization algorithms\n",
        "from torch.utils.data import DataLoader  # Import DataLoader for batch processing\n",
        "from torchvision import datasets, transforms  # Import datasets and transformations\n",
        "\n",
        "# Define an improved MLP model\n",
        "class ImprovedMLP(nn.Module):\n",
        "    def __init__(self):\n",
        "        super(ImprovedMLP, self).__init__()  # Initialize the base class\n",
        "        self.fc1 = nn.Linear(28 * 28, 512)  # Fully connected layer: input 784, output 512\n",
        "        self.fc2 = nn.Linear(512, 256)  # Fully connected layer: input 512, output 256\n",
        "        self.fc3 = nn.Linear(256, 10)  # Fully connected layer: input 256, output 10 (classes)\n",
        "\n",
        "        self.relu = nn.ReLU()  # ReLU activation function\n",
        "        self.dropout = nn.Dropout(0.3)  # Dropout layer with 30% probability\n",
        "        self.bn1 = nn.BatchNorm1d(512)  # Batch normalization for the first layer\n",
        "        self.bn2 = nn.BatchNorm1d(256)  # Batch normalization for the second layer\n",
        "\n",
        "    def forward(self, x):\n",
        "        x = x.view(-1, 28 * 28)  # Flatten the input tensor\n",
        "        x = self.dropout(self.relu(self.bn1(self.fc1(x))))  # First layer with activation, batch norm, and dropout\n",
        "        x = self.dropout(self.relu(self.bn2(self.fc2(x))))  # Second layer with activation, batch norm, and dropout\n",
        "        x = self.fc3(x)  # Output layer\n",
        "        return x  # Return the logits\n",
        "\n",
        "# Utility function for training\n",
        "def train_model(model, train_loader, criterion, optimizer, device):\n",
        "    model.train()  # Set the model to training mode\n",
        "    running_loss = 0.0  # Initialize running loss\n",
        "    correct = 0  # Initialize correct prediction count\n",
        "    total = 0  # Initialize total sample count\n",
        "\n",
        "    for inputs, labels in train_loader:  # Iterate over batches in the training loader\n",
        "        inputs, labels = inputs.to(device), labels.to(device)  # Move inputs and labels to the device\n",
        "\n",
        "        outputs = model(inputs)  # Forward pass\n",
        "        loss = criterion(outputs, labels)  # Compute loss\n",
        "\n",
        "        optimizer.zero_grad()  # Clear previous gradients\n",
        "        loss.backward()  # Backward pass to compute gradients\n",
        "        optimizer.step()  # Update model parameters\n",
        "\n",
        "        running_loss += loss.item()  # Accumulate loss\n",
        "        _, predicted = torch.max(outputs, 1)  # Get predicted class indices\n",
        "        total += labels.size(0)  # Update total sample count\n",
        "        correct += (predicted == labels).sum().item()  # Update correct prediction count\n",
        "\n",
        "    accuracy = 100 * correct / total  # Calculate accuracy\n",
        "    return running_loss / len(train_loader), accuracy  # Return average loss and accuracy\n",
        "\n",
        "# Utility function for testing\n",
        "def evaluate_model(model, test_loader, device):\n",
        "    model.eval()  # Set the model to evaluation mode\n",
        "    correct = 0  # Initialize correct prediction count\n",
        "    total = 0  # Initialize total sample count\n",
        "\n",
        "    with torch.no_grad():  # Disable gradient computation for evaluation\n",
        "        for inputs, labels in test_loader:  # Iterate over batches in the test loader\n",
        "            inputs, labels = inputs.to(device), labels.to(device)  # Move inputs and labels to the device\n",
        "            outputs = model(inputs)  # Forward pass\n",
        "            _, predicted = torch.max(outputs, 1)  # Get predicted class indices\n",
        "            total += labels.size(0)  # Update total sample count\n",
        "            correct += (predicted == labels).sum().item()  # Update correct prediction count\n",
        "\n",
        "    accuracy = 100 * correct / total  # Calculate accuracy\n",
        "    return accuracy  # Return accuracy\n",
        "\n",
        "# Main code\n",
        "if __name__ == \"__main__\":\n",
        "    device = torch.device(\"cuda\" if torch.cuda.is_available() else \"cpu\")  # Set device to GPU if available, else CPU\n",
        "\n",
        "    transform = transforms.Compose([  # Define data transformations\n",
        "        transforms.ToTensor(),  # Convert images to PyTorch tensors\n",
        "        transforms.Normalize((0.5,), (0.5,))  # Normalize images to [-1, 1] range\n",
        "    ])\n",
        "\n",
        "    train_dataset = datasets.MNIST(root='./data', train=True, download=True, transform=transform)  # Load MNIST training dataset\n",
        "    test_dataset = datasets.MNIST(root='./data', train=False, download=True, transform=transform)  # Load MNIST test dataset\n",
        "    train_loader = DataLoader(train_dataset, batch_size=64, shuffle=True)  # Create DataLoader for training\n",
        "    test_loader = DataLoader(test_dataset, batch_size=64, shuffle=False)  # Create DataLoader for testing\n",
        "\n",
        "    model = ImprovedMLP().to(device)  # Initialize model and move it to the device\n",
        "    criterion = nn.CrossEntropyLoss()  # Define the loss function\n",
        "    optimizer = optim.Adam(model.parameters(), lr=0.001)  # Define the optimizer with a learning rate of 0.001\n",
        "\n",
        "    epochs = 10  # Set the number of epochs\n",
        "    for epoch in range(epochs):  # Iterate over epochs\n",
        "        train_loss, train_accuracy = train_model(model, train_loader, criterion, optimizer, device)  # Train the model\n",
        "        print(f\"Epoch {epoch + 1}/{epochs}, Loss: {train_loss:.4f}, Accuracy: {train_accuracy:.2f}%\")  # Print training statistics\n",
        "\n",
        "    test_accuracy = evaluate_model(model, test_loader, device)  # Evaluate the model on test data\n",
        "    print(f\"Test Accuracy: {test_accuracy:.2f}%\")  # Print test accuracy"
      ]
    }
  ]
}