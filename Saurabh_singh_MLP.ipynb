{
  "cells": [
    {
      "cell_type": "markdown",
      "metadata": {
        "id": "JNPLn1hWu4nH"
      },
      "source": [
        "**torch**\n",
        "\n",
        "this is main pytorch library, a deep learning framework, used for building and training neural networks\n",
        "**torch.nn**\n",
        "\n"
      ]
    },
    {
      "cell_type": "code",
      "execution_count": 2,
      "metadata": {
        "id": "M_YE6o9AiIm1"
      },
      "outputs": [],
      "source": [
        "import torch\n",
        "import torch.nn as nn\n",
        "import torch.optim as optim\n",
        "from torch.utils.data import DataLoader\n",
        "import torchvision\n",
        "import torchvision.transforms as  transforms"
      ]
    },
    {
      "cell_type": "code",
      "execution_count": 3,
      "metadata": {
        "id": "93mstE7dpS05"
      },
      "outputs": [],
      "source": [
        "transform = transforms.Compose([\n",
        "                      transforms.Grayscale(num_output_channels=1),\n",
        "                      transforms.Resize((28,28)),\n",
        "                      transforms.ToTensor(),\n",
        "                      transforms.Normalize((0.5,),(0.5,))\n",
        "                      ])"
      ]
    },
    {
      "cell_type": "code",
      "execution_count": 4,
      "metadata": {
        "colab": {
          "base_uri": "https://localhost:8080/"
        },
        "id": "LWy9-FZVqp4M",
        "outputId": "c45b9566-8477-480b-c7d9-e4696e92e427"
      },
      "outputs": [
        {
          "name": "stdout",
          "output_type": "stream",
          "text": [
            "Downloading http://yann.lecun.com/exdb/mnist/train-images-idx3-ubyte.gz\n",
            "Failed to download (trying next):\n",
            "HTTP Error 403: Forbidden\n",
            "\n",
            "Downloading https://ossci-datasets.s3.amazonaws.com/mnist/train-images-idx3-ubyte.gz\n",
            "Downloading https://ossci-datasets.s3.amazonaws.com/mnist/train-images-idx3-ubyte.gz to /data/MNIST/raw/train-images-idx3-ubyte.gz\n"
          ]
        },
        {
          "name": "stderr",
          "output_type": "stream",
          "text": [
            "100%|██████████| 9.91M/9.91M [00:00<00:00, 15.6MB/s]\n"
          ]
        },
        {
          "name": "stdout",
          "output_type": "stream",
          "text": [
            "Extracting /data/MNIST/raw/train-images-idx3-ubyte.gz to /data/MNIST/raw\n",
            "\n",
            "Downloading http://yann.lecun.com/exdb/mnist/train-labels-idx1-ubyte.gz\n",
            "Failed to download (trying next):\n",
            "HTTP Error 403: Forbidden\n",
            "\n",
            "Downloading https://ossci-datasets.s3.amazonaws.com/mnist/train-labels-idx1-ubyte.gz\n",
            "Downloading https://ossci-datasets.s3.amazonaws.com/mnist/train-labels-idx1-ubyte.gz to /data/MNIST/raw/train-labels-idx1-ubyte.gz\n"
          ]
        },
        {
          "name": "stderr",
          "output_type": "stream",
          "text": [
            "100%|██████████| 28.9k/28.9k [00:00<00:00, 497kB/s]\n"
          ]
        },
        {
          "name": "stdout",
          "output_type": "stream",
          "text": [
            "Extracting /data/MNIST/raw/train-labels-idx1-ubyte.gz to /data/MNIST/raw\n",
            "\n",
            "Downloading http://yann.lecun.com/exdb/mnist/t10k-images-idx3-ubyte.gz\n",
            "Failed to download (trying next):\n",
            "HTTP Error 403: Forbidden\n",
            "\n",
            "Downloading https://ossci-datasets.s3.amazonaws.com/mnist/t10k-images-idx3-ubyte.gz\n",
            "Downloading https://ossci-datasets.s3.amazonaws.com/mnist/t10k-images-idx3-ubyte.gz to /data/MNIST/raw/t10k-images-idx3-ubyte.gz\n"
          ]
        },
        {
          "name": "stderr",
          "output_type": "stream",
          "text": [
            "100%|██████████| 1.65M/1.65M [00:00<00:00, 4.41MB/s]\n"
          ]
        },
        {
          "name": "stdout",
          "output_type": "stream",
          "text": [
            "Extracting /data/MNIST/raw/t10k-images-idx3-ubyte.gz to /data/MNIST/raw\n",
            "\n",
            "Downloading http://yann.lecun.com/exdb/mnist/t10k-labels-idx1-ubyte.gz\n",
            "Failed to download (trying next):\n",
            "HTTP Error 403: Forbidden\n",
            "\n",
            "Downloading https://ossci-datasets.s3.amazonaws.com/mnist/t10k-labels-idx1-ubyte.gz\n",
            "Downloading https://ossci-datasets.s3.amazonaws.com/mnist/t10k-labels-idx1-ubyte.gz to /data/MNIST/raw/t10k-labels-idx1-ubyte.gz\n"
          ]
        },
        {
          "name": "stderr",
          "output_type": "stream",
          "text": [
            "100%|██████████| 4.54k/4.54k [00:00<00:00, 2.18MB/s]"
          ]
        },
        {
          "name": "stdout",
          "output_type": "stream",
          "text": [
            "Extracting /data/MNIST/raw/t10k-labels-idx1-ubyte.gz to /data/MNIST/raw\n",
            "\n"
          ]
        },
        {
          "name": "stderr",
          "output_type": "stream",
          "text": [
            "\n"
          ]
        }
      ],
      "source": [
        "trainset = torchvision.datasets.MNIST(root=\"/data\",train=True,download=True,transform=transform)\n",
        "\n",
        "testset = torchvision.datasets.MNIST(root=\"/data\",train=False,download=True,transform=transform)\n",
        "\n",
        "trainloader = DataLoader(trainset ,batch_size=64,shuffle=True)\n",
        "\n",
        "testloader = DataLoader(testset ,batch_size=64,shuffle=False)\n",
        "\n"
      ]
    },
    {
      "cell_type": "code",
      "execution_count": 5,
      "metadata": {
        "id": "t42x2Ozyrqpa"
      },
      "outputs": [],
      "source": [
        "class MLP(nn.Module):\n",
        "  def __init__(self):\n",
        "    super(MLP,self).__init__()\n",
        "    self.fc1 = nn.Linear(28*28,128)\n",
        "    self.fc2 = nn.Linear(128,10)\n",
        "    self.relu=nn.ReLU()\n",
        "\n",
        "  def forward(self,x):\n",
        "    x = x.view(-1,28*28)\n",
        "    x = self.relu(self.fc1(x))\n",
        "    x = self.fc2(x)\n",
        "    return x"
      ]
    },
    {
      "cell_type": "code",
      "execution_count": 6,
      "metadata": {
        "id": "IWA-xarps37d"
      },
      "outputs": [],
      "source": [
        "model = MLP()\n",
        "criterion = nn.CrossEntropyLoss()\n",
        "optimizer =optim.Adam(model.parameters(),lr=0.001)"
      ]
    },
    {
      "cell_type": "code",
      "execution_count": 7,
      "metadata": {
        "colab": {
          "base_uri": "https://localhost:8080/"
        },
        "id": "vKvR9iVGucTy",
        "outputId": "73c4e67d-e669-4737-9240-a8c868673300"
      },
      "outputs": [
        {
          "name": "stdout",
          "output_type": "stream",
          "text": [
            "Epoch 1/5, Loss: 0.3917079259401191 , Accuracy: 88.63\n",
            "Epoch 2/5, Loss: 0.20451423267263974 , Accuracy: 93.89833333333333\n",
            "Epoch 3/5, Loss: 0.14602889248164003 , Accuracy: 95.68833333333333\n",
            "Epoch 4/5, Loss: 0.11942403920805023 , Accuracy: 96.38\n",
            "Epoch 5/5, Loss: 0.1010443911121201 , Accuracy: 96.91\n"
          ]
        }
      ],
      "source": [
        "epochs = 5\n",
        "for epoch in range(epochs):\n",
        "  model.train()\n",
        "  running_loss = 0.0\n",
        "  correct =0\n",
        "  total =0\n",
        "  for inputs, labels in trainloader:\n",
        "    optimizer.zero_grad()\n",
        "    outputs = model(inputs)\n",
        "    loss = criterion(outputs ,labels )\n",
        "    loss.backward()\n",
        "    optimizer.step()\n",
        "\n",
        "    running_loss += loss.item()\n",
        "    _,predicted = torch.max(outputs,1)\n",
        "    total +=labels.size(0)\n",
        "    correct +=(predicted ==labels).sum().item()\n",
        "\n",
        "  print(f\"Epoch {epoch+1}/{epochs}, Loss: {running_loss/len(trainloader)} , Accuracy: {100*correct/total}\")"
      ]
    },
    {
      "cell_type": "code",
      "execution_count": 12,
      "metadata": {
        "colab": {
          "base_uri": "https://localhost:8080/"
        },
        "collapsed": true,
        "id": "H4tNKaWSEWeB",
        "outputId": "2e49ffb1-7061-4393-c7b3-302adfb2bad5"
      },
      "outputs": [
        {
          "name": "stdout",
          "output_type": "stream",
          "text": [
            "Test Accuracy: 96.84\n"
          ]
        }
      ],
      "source": [
        "#  Evaluate on Test Data\n",
        "model.eval()\n",
        "correct =0\n",
        "total =0\n",
        "act_labels =torch.tensor([])\n",
        "model_predicted =torch.tensor([])\n",
        "\n",
        "with torch.no_grad():\n",
        "  for inputs, labels in testloader:\n",
        "    outputs =model(inputs)\n",
        "    act_labels = torch.cat((act_labels ,labels ) ,dim =0)\n",
        "    _, predicted = torch.max(outputs,1)\n",
        "    model_predicted = torch.cat((model_predicted ,predicted),dim=0 )\n",
        "    total +=labels.size(0)\n",
        "    correct += (predicted ==labels).sum().item()\n",
        "print(f\"Test Accuracy: {100*correct/total:.2f}\")"
      ]
    },
    {
      "cell_type": "code",
      "execution_count": 13,
      "metadata": {
        "colab": {
          "base_uri": "https://localhost:8080/"
        },
        "collapsed": true,
        "id": "TfSo8q5LZsIO",
        "outputId": "b3cc0406-13d5-4f85-f300-edc3e01d5a35"
      },
      "outputs": [
        {
          "name": "stdout",
          "output_type": "stream",
          "text": [
            "tensor([7., 2., 1.,  ..., 4., 5., 6.])\n",
            "tensor([7., 2., 1.,  ..., 4., 5., 6.])\n"
          ]
        }
      ],
      "source": [
        "print(model_predicted)\n",
        "print(act_labels)"
      ]
    },
    {
      "cell_type": "code",
      "execution_count": 17,
      "metadata": {
        "colab": {
          "base_uri": "https://localhost:8080/",
          "height": 641
        },
        "id": "gtaFOS7VZ0yL",
        "outputId": "2d7a8ab5-11e3-46c5-8e74-b34570c00c1a"
      },
      "outputs": [
        {
          "data": {
            "image/png": "[encoded data removed]",
            "text/plain": [
              "<Figure size 1000x700 with 2 Axes>"
            ]
          },
          "metadata": {},
          "output_type": "display_data"
        }
      ],
      "source": [
        "import seaborn as sns\n",
        "import matplotlib.pyplot as plt\n",
        "from sklearn.metrics import confusion_matrix\n",
        "import numpy as np\n",
        "\n",
        "cm = confusion_matrix(act_labels ,model_predicted )\n",
        "\n",
        "plt.figure(figsize =(10,7))\n",
        "sns.heatmap(cm,annot=True ,fmt ='g' ,cmap =\"Blues\" ,xticklabels=np.arange(10) ,yticklabels=np.arange(10))\n",
        "\n",
        "plt.title(\"Confusion Matrix\")\n",
        "plt.xlabel(\"Predicted, labels\")\n",
        "plt.xlabel(\"True labels\")\n",
        "plt.show()\n"
      ]
    },
    {
      "cell_type": "code",
      "execution_count": 9,
      "metadata": {
        "id": "6Zb2b4MI10vo"
      },
      "outputs": [],
      "source": [
        "from PIL import Image\n",
        "def test_single_img(img_path ,model):\n",
        "  img = Image.open(img_path)\n",
        "  img  = transform(img).unsqueeze(0)\n",
        "  model.eval()\n",
        "\n",
        "  with torch.no_grad():\n",
        "    outputs = model(img)\n",
        "    _,predicted = torch.max(outputs,1)\n",
        "  return predicted.item()\n"
      ]
    },
    {
      "cell_type": "code",
      "execution_count": null,
      "metadata": {
        "colab": {
          "base_uri": "https://localhost:8080/",
          "height": 365
        },
        "id": "qpaYUsC22ssA",
        "outputId": "4afadcfb-532a-4660-9f53-38fdc3fe498b"
      },
      "outputs": [],
      "source": [
        "import matplotlib.pyplot as plt\n",
        "\n",
        "\n",
        "img_path = \"/content/4.png\"\n",
        "\n",
        "predicted_class = test_single_img(img_path,model)\n",
        "\n",
        "img = Image.open(img_path)\n",
        "plt.imshow(img, cmap =\"gray\")\n",
        "plt.title(f\"Predicted class: {predicted_class}\")\n",
        "plt.show()"
      ]
    }
  ],
  "metadata": {
    "colab": {
      "provenance": []
    },
    "kernelspec": {
      "display_name": "Python 3",
      "name": "python3"
    },
    "language_info": {
      "name": "python"
    }
  },
  "nbformat": 4,
  "nbformat_minor": 0
}
