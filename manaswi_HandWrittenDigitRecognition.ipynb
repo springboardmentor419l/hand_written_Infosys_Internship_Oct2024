{
  "nbformat": 4,
  "nbformat_minor": 0,
  "metadata": {
    "colab": {
      "provenance": []
    },
    "kernelspec": {
      "name": "python3",
      "display_name": "Python 3"
    },
    "language_info": {
      "name": "python"
    }
  },
  "cells": [
    {
      "cell_type": "code",
      "execution_count": null,
      "metadata": {
        "colab": {
          "base_uri": "https://localhost:8080/"
        },
        "id": "wlfea3HwwPat",
        "outputId": "434d217a-1e46-4334-9cb7-6e2930e3e7f1"
      },
      "outputs": [
        {
          "output_type": "stream",
          "name": "stdout",
          "text": [
            "Downloading http://yann.lecun.com/exdb/mnist/train-images-idx3-ubyte.gz\n",
            "Failed to download (trying next):\n",
            "<urlopen error [Errno -5] No address associated with hostname>\n",
            "\n",
            "Downloading https://ossci-datasets.s3.amazonaws.com/mnist/train-images-idx3-ubyte.gz\n",
            "Downloading https://ossci-datasets.s3.amazonaws.com/mnist/train-images-idx3-ubyte.gz to ./data/MNIST/raw/train-images-idx3-ubyte.gz\n"
          ]
        },
        {
          "output_type": "stream",
          "name": "stderr",
          "text": [
            "100%|██████████| 9.91M/9.91M [00:00<00:00, 20.4MB/s]\n"
          ]
        },
        {
          "output_type": "stream",
          "name": "stdout",
          "text": [
            "Extracting ./data/MNIST/raw/train-images-idx3-ubyte.gz to ./data/MNIST/raw\n",
            "\n",
            "Downloading http://yann.lecun.com/exdb/mnist/train-labels-idx1-ubyte.gz\n",
            "Failed to download (trying next):\n",
            "<urlopen error [Errno -5] No address associated with hostname>\n",
            "\n",
            "Downloading https://ossci-datasets.s3.amazonaws.com/mnist/train-labels-idx1-ubyte.gz\n",
            "Downloading https://ossci-datasets.s3.amazonaws.com/mnist/train-labels-idx1-ubyte.gz to ./data/MNIST/raw/train-labels-idx1-ubyte.gz\n"
          ]
        },
        {
          "output_type": "stream",
          "name": "stderr",
          "text": [
            "100%|██████████| 28.9k/28.9k [00:00<00:00, 638kB/s]\n"
          ]
        },
        {
          "output_type": "stream",
          "name": "stdout",
          "text": [
            "Extracting ./data/MNIST/raw/train-labels-idx1-ubyte.gz to ./data/MNIST/raw\n",
            "\n",
            "Downloading http://yann.lecun.com/exdb/mnist/t10k-images-idx3-ubyte.gz\n",
            "Failed to download (trying next):\n",
            "HTTP Error 403: Forbidden\n",
            "\n",
            "Downloading https://ossci-datasets.s3.amazonaws.com/mnist/t10k-images-idx3-ubyte.gz\n",
            "Downloading https://ossci-datasets.s3.amazonaws.com/mnist/t10k-images-idx3-ubyte.gz to ./data/MNIST/raw/t10k-images-idx3-ubyte.gz\n"
          ]
        },
        {
          "output_type": "stream",
          "name": "stderr",
          "text": [
            "100%|██████████| 1.65M/1.65M [00:00<00:00, 5.59MB/s]\n"
          ]
        },
        {
          "output_type": "stream",
          "name": "stdout",
          "text": [
            "Extracting ./data/MNIST/raw/t10k-images-idx3-ubyte.gz to ./data/MNIST/raw\n",
            "\n",
            "Downloading http://yann.lecun.com/exdb/mnist/t10k-labels-idx1-ubyte.gz\n",
            "Failed to download (trying next):\n",
            "HTTP Error 403: Forbidden\n",
            "\n",
            "Downloading https://ossci-datasets.s3.amazonaws.com/mnist/t10k-labels-idx1-ubyte.gz\n",
            "Downloading https://ossci-datasets.s3.amazonaws.com/mnist/t10k-labels-idx1-ubyte.gz to ./data/MNIST/raw/t10k-labels-idx1-ubyte.gz\n"
          ]
        },
        {
          "output_type": "stream",
          "name": "stderr",
          "text": [
            "100%|██████████| 4.54k/4.54k [00:00<00:00, 2.11MB/s]"
          ]
        },
        {
          "output_type": "stream",
          "name": "stdout",
          "text": [
            "Extracting ./data/MNIST/raw/t10k-labels-idx1-ubyte.gz to ./data/MNIST/raw\n",
            "\n",
            "Number of training samples: 60000\n",
            "Number of test samples: 10000\n",
            "Batch size: 64\n"
          ]
        },
        {
          "output_type": "stream",
          "name": "stderr",
          "text": [
            "\n"
          ]
        }
      ],
      "source": [
        "import torch # Importing PyTorch for neural networks and tensor operations\n",
        "import torch.nn as nn  # Importing neural network modules\n",
        "import torch.optim as optim  # Importing optimization algorithms\n",
        "from torchvision import datasets, transforms  # Importing datasets and transformations from torchvision\n",
        "from torch.utils.data import DataLoader  # Importing DataLoader for batch processing\n",
        "import matplotlib.pyplot as plt  # Importing Matplotlib for plotting\n",
        "\n",
        "# Define Dataset Transformations\n",
        "def get_transform():\n",
        "    return transforms.Compose([  # Chain multiple transformations\n",
        "        transforms.ToTensor(),  # Convert images to tensors\n",
        "        transforms.Normalize((0.5,), (0.5,))  # Normalize the images to the range [-1, 1]\n",
        "    ])\n",
        "\n",
        "# Load Datasets\n",
        "def get_datasets(transform):\n",
        "    train_dataset = datasets.MNIST( # Load the MNIST training dataset\n",
        "        root='./data', # Store data in the './data' directory\n",
        "        train=True,  # Specify that this is the training dataset\n",
        "        download=True,  # Download the dataset if not present locally\n",
        "        transform=transform  # Apply the defined transformations\n",
        "    )\n",
        "    test_dataset = datasets.MNIST( # Load the MNIST test dataset\n",
        "        root='./data', # Store data in the './data' directory\n",
        "        train=False, # Specify that this is the test dataset\n",
        "        download=True,  # Download the dataset if not present locally\n",
        "        transform=transform  # Apply the defined transformations\n",
        "    )\n",
        "    return train_dataset, test_dataset  # Return both the training and test datasets\n",
        "\n",
        "# Create Data Loaders\n",
        "def get_data_loaders(train_dataset, test_dataset, batch_size=64):\n",
        "    train_loader = DataLoader(  # Create a DataLoader for the training data\n",
        "        train_dataset, # Pass the training dataset\n",
        "        batch_size=batch_size, # Set the batch size for training\n",
        "        shuffle=True  # Shuffle the data for better training performance\n",
        "    )\n",
        "    test_loader = DataLoader(  # Create a DataLoader for the test data\n",
        "        test_dataset,  # Pass the training dataset\n",
        "        batch_size=batch_size,  # Set the batch size for training\n",
        "        shuffle=False   # No need to shuffle the test data\n",
        "    )\n",
        "    return train_loader, test_loader  # Return both the training and test data loaders\n",
        "\n",
        "# Combine Everything\n",
        "# Apply transformations\n",
        "transform = get_transform() # Get the transformation function\n",
        "\n",
        "# Load datasets\n",
        "train_dataset, test_dataset = get_datasets(transform)   # Load training and test datasets with applied transformations\n",
        "\n",
        "# Create DataLoaders\n",
        "train_loader, test_loader = get_data_loaders(train_dataset, test_dataset, batch_size=64)  # Create DataLoader objects for training and testing\n",
        "\n",
        "# Optional: Check data\n",
        "print(f\"Number of training samples: {len(train_dataset)}\") # Print the number of training samples\n",
        "print(f\"Number of test samples: {len(test_dataset)}\") # Print the number of test samples\n",
        "print(f\"Batch size: {train_loader.batch_size}\") # Print the batch size used in the DataLoader\n"
      ]
    },
    {
      "cell_type": "code",
      "source": [
        "import torch # Importing PyTorch for tensor operations\n",
        "import torch.nn as nn  # Importing PyTorch's neural network module\n",
        "import torch.optim as optim # Importing PyTorch's optimization algorithms\n",
        "\n",
        "# Define the LeNet-5 Model\n",
        "class LeNet5(nn.Module):  # Define a class for the LeNet-5 model, inheriting from nn.Module\n",
        "    def __init__(self): # Constructor method to initialize the model\n",
        "        super(LeNet5, self).__init__() # Call the parent class's constructor\n",
        "\n",
        "        # Feature extractor (convolutional layers and pooling layers)\n",
        "        self.feature_extractor = nn.Sequential(\n",
        "            # First convolution layer: Input: 1x28x28 -> Output: 6x28x28 (padding=2 keeps spatial dimensions)\n",
        "            nn.Conv2d(1, 6, kernel_size=5, stride=1, padding=2), # Convolution with 1 input channel, 6 output channels\n",
        "            nn.ReLU(),   # Apply ReLU activation function\n",
        "            nn.AvgPool2d(kernel_size=2, stride=2),  # Average pooling with 2x2 kernel size and stride of 2\n",
        "\n",
        "            # Second convolution layer: Input: 6x14x14 -> Output: 16x10x10\n",
        "            nn.Conv2d(6, 16, kernel_size=5, stride=1), # Convolution with 6 input channels, 16 output channels\n",
        "            nn.ReLU(),  # Apply ReLU activation function\n",
        "            nn.AvgPool2d(kernel_size=2, stride=2)  # Average pooling with 2x2 kernel size and stride of 2\n",
        "        )\n",
        "\n",
        "        # Classifier (fully connected layers)\n",
        "        self.classifier = nn.Sequential(\n",
        "            nn.Linear(16 * 5 * 5, 120),  # Fully connected layer: Input features: 16x5x5, Output: 120\n",
        "            nn.ReLU(), # Apply ReLU activation function\n",
        "            nn.Linear(120, 84),  # Fully connected layer: Input: 120, Output: 84\n",
        "            nn.ReLU(), # Apply ReLU activation function\n",
        "            nn.Linear(84, 10) # Output layer: 10 output classes (for 10 digits in MNIST)\n",
        "        )\n",
        "\n",
        "    def forward(self, x):  # Define the forward pass\n",
        "        x = self.feature_extractor(x)  # Pass input through the convolutional layers\n",
        "        x = x.view(-1, 16 * 5 * 5)     # Flatten the output for the fully connected layers\n",
        "        x = self.classifier(x)         # Pass through the fully connected layers\n",
        "        return x\n",
        "\n",
        "# Initialize Model, Loss, and Optimizer\n",
        "def initialize_model():\n",
        "    device = torch.device('cuda' if torch.cuda.is_available() else 'cpu')   # Check if GPU is available and select device\n",
        "    model = LeNet5().to(device)  # Instantiate the LeNet5 model and move it to the selected device (GPU/CPU)\n",
        "    criterion = nn.CrossEntropyLoss()  # Define loss function: CrossEntropyLoss (combines softmax and negative log likelihood)\n",
        "    optimizer = optim.Adam(model.parameters(), lr=0.001)   # Use Adam optimizer with learning rate of 0.001\n",
        "    return model, criterion, optimizer, device  # Return the model, loss function, optimizer, and device\n",
        "\n",
        "# Get the initialized model, loss, and optimizer\n",
        "model, criterion, optimizer, device = initialize_model() # Call the initialization function to get model and related components\n",
        "\n",
        "# Optional: Model Summary\n",
        "print(model) # Print the model architecture to inspect its structure\n"
      ],
      "metadata": {
        "id": "qh2HAkz40_oS"
      },
      "execution_count": null,
      "outputs": []
    },
    {
      "cell_type": "code",
      "source": [
        "# Function to train the model\n",
        "def train_model(model, train_loader, criterion, optimizer, epochs=10, device='cpu'):\n",
        "    model.to(device)  # Move the model to the specified device\n",
        "    model.train()    # Set the model to training mode (enables dropout, batch normalization, etc.)\n",
        "\n",
        "    # Loop over epochs (train the model for a specified number of epochs)\n",
        "    for epoch in range(1, epochs + 1):\n",
        "        epoch_loss = 0.0  # Initialize a variable to accumulate loss during the epoch\n",
        "\n",
        "        # Iterate over training data\n",
        "        for batch in train_loader:\n",
        "            images, labels = batch  # Unpack the images and labels from the batch\n",
        "            images, labels = images.to(device), labels.to(device)  # Move data to the selected device (CPU/GPU)\n",
        "\n",
        "            optimizer.zero_grad()    # Zero out the gradients from the previous step\n",
        "            outputs = model(images)        # Perform a forward pass through the model to get predictions\n",
        "            loss = criterion(outputs, labels)  # Compute the loss between predicted outputs and the true labels\n",
        "            loss.backward()        # Backpropagate the error (calculate gradients)\n",
        "            optimizer.step()   # Update the model weights using the optimizer\n",
        "\n",
        "            epoch_loss += loss.item() # Accumulate the loss for the current batch\n",
        "\n",
        "        # After processing all batches in the current epoch, calculate and print the average loss\n",
        "        avg_loss = epoch_loss / len(train_loader) # Average loss for the current epoch\n",
        "        print(f\"Epoch {epoch}/{epochs}, Average Loss: {avg_loss:.4f}\")\n",
        "\n"
      ],
      "metadata": {
        "id": "oAlEjUgG1Xh_"
      },
      "execution_count": null,
      "outputs": []
    },
    {
      "cell_type": "code",
      "source": [
        "# Function to evaluate the model on the test data\n",
        "def evaluate_model(model, test_loader, device='cpu'):\n",
        "    model.to(device)  # Ensure the model is on the correct device\n",
        "    model.eval()      # Set the model to evaluation mode\n",
        "\n",
        "    correct_predictions = 0  # Counter for correct predictions\n",
        "    total_samples = 0        # Counter for total samples\n",
        "\n",
        "    # Disable gradient computation for evaluation\n",
        "    with torch.no_grad():\n",
        "        for images, labels in test_loader:\n",
        "            images, labels = images.to(device), labels.to(device)  # Move data to device\n",
        "\n",
        "            # Forward pass to get predictions\n",
        "            outputs = model(images)\n",
        "\n",
        "            # Get the predicted class index for each sample\n",
        "            predicted_labels = torch.argmax(outputs, dim=1)\n",
        "\n",
        "            # Update counters\n",
        "            total_samples += labels.size(0)\n",
        "            correct_predictions += (predicted_labels == labels).sum().item()\n",
        "\n",
        "    # Calculate accuracy as a percentage\n",
        "    accuracy = 100 * correct_predictions / total_samples\n",
        "    print(f\"Test Accuracy: {accuracy:.2f}%\")\n",
        "    return accuracy\n",
        "\n",
        "# Train and evaluate the model\n",
        "train_model(model, train_loader, criterion, optimizer, epochs=10, device=device)\n",
        "accuracy = evaluate_model(model, test_loader, device=device)\n"
      ],
      "metadata": {
        "colab": {
          "base_uri": "https://localhost:8080/"
        },
        "id": "Q2d1OC3p3U9C",
        "outputId": "e0d17343-7156-437a-b66c-86e5ab1effab"
      },
      "execution_count": null,
      "outputs": [
        {
          "output_type": "stream",
          "name": "stdout",
          "text": [
            "Epoch 1/10, Average Loss: 0.2688\n",
            "Epoch 2/10, Average Loss: 0.0771\n",
            "Epoch 3/10, Average Loss: 0.0555\n",
            "Epoch 4/10, Average Loss: 0.0461\n",
            "Epoch 5/10, Average Loss: 0.0388\n",
            "Epoch 6/10, Average Loss: 0.0334\n",
            "Epoch 7/10, Average Loss: 0.0282\n",
            "Epoch 8/10, Average Loss: 0.0240\n",
            "Epoch 9/10, Average Loss: 0.0204\n",
            "Epoch 10/10, Average Loss: 0.0197\n",
            "Test Accuracy: 98.93%\n"
          ]
        }
      ]
    },
    {
      "cell_type": "code",
      "source": [
        "# Function to make predictions and visualize the results\n",
        "def visualize_predictions(model, test_loader, num_samples=5, device='cpu'):\n",
        "    model.to(device)  # Ensure the model is on the correct device\n",
        "    model.eval()      # Set the model to evaluation mode\n",
        "\n",
        "    # Fetch a batch of test samples\n",
        "    data_iter = iter(test_loader)\n",
        "    images, labels = next(data_iter)\n",
        "\n",
        "    # Limit the number of samples to `num_samples`\n",
        "    images, labels = images[:num_samples], labels[:num_samples]\n",
        "\n",
        "    # Move data to the appropriate device\n",
        "    images, labels = images.to(device), labels.to(device)\n",
        "\n",
        "    # Get the model's predictions\n",
        "    with torch.no_grad():\n",
        "        outputs = model(images)\n",
        "        predicted_labels = torch.argmax(outputs, dim=1)\n",
        "\n",
        "    # Convert images to NumPy for visualization\n",
        "    images = images.cpu().numpy()\n",
        "\n",
        "    # Plot the images with their true and predicted labels\n",
        "    for i in range(num_samples):\n",
        "        plt.figure(figsize=(3, 3))  # Set figure size for better clarity\n",
        "        plt.imshow(images[i][0], cmap='gray')  # Display the image in grayscale\n",
        "        plt.title(\n",
        "            f\"True: {labels[i].item()} | Pred: {predicted_labels[i].item()}\",\n",
        "            fontsize=12,\n",
        "        )  # Set a detailed title\n",
        "        plt.axis('off')  # Turn off axes for a cleaner look\n",
        "        plt.show()  # Display the image\n",
        "\n",
        "# Call the function to visualize predictions\n",
        "visualize_predictions(model, test_loader, num_samples=5, device=device)\n"
      ],
      "metadata": {
        "colab": {
          "base_uri": "https://localhost:8080/",
          "height": 1000
        },
        "id": "X7LzM84c3ZOk",
        "outputId": "a8b7ea5c-25e2-4b64-edbd-48fab115fb6e"
      },
      "execution_count": null,
      "outputs": [
        {
          "output_type": "display_data",
          "data": {
            "text/plain": [
              "<Figure size 300x300 with 1 Axes>"
            ],
            "image/png": "[encoded data removed]"
          },
          "metadata": {}
        },
        {
          "output_type": "display_data",
          "data": {
            "text/plain": [
              "<Figure size 300x300 with 1 Axes>"
            ],
            "image/png": "[encoded data removed]"
          },
          "metadata": {}
        },
        {
          "output_type": "display_data",
          "data": {
            "text/plain": [
              "<Figure size 300x300 with 1 Axes>"
            ],
            "image/png": "[encoded data removed]"
          },
          "metadata": {}
        },
        {
          "output_type": "display_data",
          "data": {
            "text/plain": [
              "<Figure size 300x300 with 1 Axes>"
            ],
            "image/png": "[encoded data removed]"
          },
          "metadata": {}
        },
        {
          "output_type": "display_data",
          "data": {
            "text/plain": [
              "<Figure size 300x300 with 1 Axes>"
            ],
            "image/png": "[encoded data removed]"
          },
          "metadata": {}
        }
      ]
    }
  ]
}