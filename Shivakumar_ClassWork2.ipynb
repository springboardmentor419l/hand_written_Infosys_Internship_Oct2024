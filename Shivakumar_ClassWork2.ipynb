{
  "nbformat": 4,
  "nbformat_minor": 0,
  "metadata": {
    "colab": {
      "provenance": []
    },
    "kernelspec": {
      "name": "python3",
      "display_name": "Python 3"
    },
    "language_info": {
      "name": "python"
    }
  },
  "cells": [
    {
      "cell_type": "code",
      "execution_count": null,
      "metadata": {
        "id": "4773tmeutmkX"
      },
      "outputs": [],
      "source": [
        "import torch\n",
        "import torch.nn.functional as F"
      ]
    },
    {
      "cell_type": "code",
      "source": [
        "input_tensor = torch.tensor([\n",
        "    [1, 1, 1, 0, 0, 0],\n",
        "    [1, 1, 1, 0, 0, 0],\n",
        "    [1, 1, 1, 0, 0, 0],\n",
        "    [1, 1, 1, 0, 0, 0],\n",
        "    [1, 1, 1, 0, 0, 0],\n",
        "    [1, 1, 1, 0, 0, 0]\n",
        "], dtype=torch.float32).unsqueeze(0).unsqueeze(0)"
      ],
      "metadata": {
        "id": "CrRzDZL5txnm"
      },
      "execution_count": null,
      "outputs": []
    },
    {
      "cell_type": "code",
      "source": [
        "print(\"Input Tensor:\")\n",
        "print(input_tensor.squeeze().numpy())"
      ],
      "metadata": {
        "colab": {
          "base_uri": "https://localhost:8080/"
        },
        "id": "0k2hc7v6t6Vj",
        "outputId": "172075e3-956d-4cfa-83f5-b38231db8179"
      },
      "execution_count": null,
      "outputs": [
        {
          "output_type": "stream",
          "name": "stdout",
          "text": [
            "Input Tensor:\n",
            "[[1. 1. 1. 0. 0. 0.]\n",
            " [1. 1. 1. 0. 0. 0.]\n",
            " [1. 1. 1. 0. 0. 0.]\n",
            " [1. 1. 1. 0. 0. 0.]\n",
            " [1. 1. 1. 0. 0. 0.]\n",
            " [1. 1. 1. 0. 0. 0.]]\n"
          ]
        }
      ]
    },
    {
      "cell_type": "code",
      "source": [
        "kernel = torch.tensor([\n",
        "    [-1, 0, 1],\n",
        "    [-1, 0, 1],\n",
        "    [-1, 0, 1]\n",
        "], dtype=torch.float32).unsqueeze(0).unsqueeze(0)"
      ],
      "metadata": {
        "id": "Ojj-kkv2uAjE"
      },
      "execution_count": null,
      "outputs": []
    },
    {
      "cell_type": "code",
      "source": [
        "print(\"\\nKernel Tensor:\")\n",
        "print(kernel.squeeze().numpy())"
      ],
      "metadata": {
        "colab": {
          "base_uri": "https://localhost:8080/"
        },
        "id": "n2MO_9IMuJDG",
        "outputId": "024eb63b-73e2-49a2-9cf1-638a3e43dc2a"
      },
      "execution_count": null,
      "outputs": [
        {
          "output_type": "stream",
          "name": "stdout",
          "text": [
            "\n",
            "Kernel Tensor:\n",
            "[[-1.  0.  1.]\n",
            " [-1.  0.  1.]\n",
            " [-1.  0.  1.]]\n"
          ]
        }
      ]
    },
    {
      "cell_type": "code",
      "source": [
        "def convolve_with_stride(input_tensor, kernel, stride):\n",
        "    output = F.conv2d(input_tensor, kernel, stride=stride, padding=0)  # No padding\n",
        "    return output\n"
      ],
      "metadata": {
        "id": "odsgxqM_utEN"
      },
      "execution_count": null,
      "outputs": []
    },
    {
      "cell_type": "code",
      "source": [
        "strides = [1, 2, 3]\n",
        "outputs = []\n",
        "\n",
        "for stride in strides:\n",
        "    output = convolve_with_stride(input_tensor, kernel, stride)\n",
        "    outputs.append(output)\n",
        "    print(f\"\\nOutput Tensor with Stride {stride}:\")\n",
        "    print(output.squeeze().numpy())\n",
        "\n",
        "# Analyze the Output\n",
        "print(\"\\nAnalysis of Results:\")\n",
        "print(\"1. Stride 1: Produces an output tensor of size 4x4. Each pixel is influenced by maximum kernel overlap, resulting in more detailed feature extraction.\")\n",
        "print(\"2. Stride 2: Reduces the output tensor to size 2x2. Some image details are skipped due to increased step size, resulting in less overlap.\")\n",
        "print(\"3. Stride 3: Further reduces the output tensor to size 1x1. Only a single kernel application occurs, greatly simplifying the extracted feature.\")\n"
      ],
      "metadata": {
        "colab": {
          "base_uri": "https://localhost:8080/"
        },
        "id": "12rejmiQu9Fj",
        "outputId": "c63074b1-44e6-4fa8-acd3-0a339da171e5"
      },
      "execution_count": null,
      "outputs": [
        {
          "output_type": "stream",
          "name": "stdout",
          "text": [
            "\n",
            "Output Tensor with Stride 1:\n",
            "[[ 0. -3. -3.  0.]\n",
            " [ 0. -3. -3.  0.]\n",
            " [ 0. -3. -3.  0.]\n",
            " [ 0. -3. -3.  0.]]\n",
            "\n",
            "Output Tensor with Stride 2:\n",
            "[[ 0. -3.]\n",
            " [ 0. -3.]]\n",
            "\n",
            "Output Tensor with Stride 3:\n",
            "[[0. 0.]\n",
            " [0. 0.]]\n",
            "\n",
            "Analysis of Results:\n",
            "1. Stride 1: Produces an output tensor of size 4x4. Each pixel is influenced by maximum kernel overlap, resulting in more detailed feature extraction.\n",
            "2. Stride 2: Reduces the output tensor to size 2x2. Some image details are skipped due to increased step size, resulting in less overlap.\n",
            "3. Stride 3: Further reduces the output tensor to size 1x1. Only a single kernel application occurs, greatly simplifying the extracted feature.\n"
          ]
        }
      ]
    }
  ]
}