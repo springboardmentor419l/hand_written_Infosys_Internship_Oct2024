{
  "nbformat": 4,
  "nbformat_minor": 0,
  "metadata": {
    "colab": {
      "provenance": []
    },
    "kernelspec": {
      "name": "python3",
      "display_name": "Python 3"
    },
    "language_info": {
      "name": "python"
    }
  },
  "cells": [
    {
      "cell_type": "code",
      "execution_count": null,
      "metadata": {
        "id": "CmM5OPgQfcAC"
      },
      "outputs": [],
      "source": [
        "image = [\n",
        "    [10, 50, 80, 60, 90],\n",
        "    [70, 100, 120, 150, 200],\n",
        "    [200, 220, 230, 210, 190],\n",
        "    [180, 160, 140, 120, 110],\n",
        "    [100, 70, 50, 40, 20]\n",
        "]"
      ]
    },
    {
      "cell_type": "code",
      "source": [
        "vertical_kernel = [\n",
        "    [-1, 0, 1],\n",
        "    [-2, 0, 2],\n",
        "    [-1, 0, 1]\n",
        "]\n",
        "\n",
        "horizontal_kernel = [\n",
        "    [-1, -2, -1],\n",
        "    [ 0,  0,  0],\n",
        "    [ 1,  2,  1]\n",
        "]"
      ],
      "metadata": {
        "id": "IeHg3aNSfwnB"
      },
      "execution_count": null,
      "outputs": []
    },
    {
      "cell_type": "code",
      "source": [
        "def convolve(image, kernel):\n",
        "    image_height = len(image)\n",
        "    image_width = len(image[0])\n",
        "    kernel_size = len(kernel)\n",
        "    kernel_offset = kernel_size // 2\n",
        "\n",
        "    output = [[0] * image_width for _ in range(image_height)]\n",
        "\n",
        "    for i in range(kernel_offset, image_height - kernel_offset):\n",
        "        for j in range(kernel_offset, image_width - kernel_offset):\n",
        "            weighted_sum = 0\n",
        "            for ki in range(kernel_size):\n",
        "                for kj in range(kernel_size):\n",
        "                    pixel = image[i + ki - kernel_offset][j + kj - kernel_offset]\n",
        "                    weight = kernel[ki][kj]\n",
        "                    weighted_sum += pixel * weight\n",
        "\n",
        "            output[i][j] = abs(weighted_sum)\n",
        "\n",
        "    return output"
      ],
      "metadata": {
        "id": "vWx5XfO5f3oo"
      },
      "execution_count": null,
      "outputs": []
    },
    {
      "cell_type": "code",
      "source": [
        "vertical_edges = convolve(image, vertical_kernel)\n",
        "horizontal_edges = convolve(image, horizontal_kernel)"
      ],
      "metadata": {
        "id": "9gfC_zCigOyK"
      },
      "execution_count": null,
      "outputs": []
    },
    {
      "cell_type": "code",
      "source": [
        "def print_image(image):\n",
        "    for row in image:\n",
        "        print(' '.join(f'{pixel:4}' for pixel in row))"
      ],
      "metadata": {
        "id": "EWO8f9degU2T"
      },
      "execution_count": null,
      "outputs": []
    },
    {
      "cell_type": "code",
      "source": [
        "print(\"Original Image:\")\n",
        "print_image(image)"
      ],
      "metadata": {
        "colab": {
          "base_uri": "https://localhost:8080/"
        },
        "id": "8280-B7bgdwt",
        "outputId": "2b690156-1ad2-4f8b-ebea-c4f08bd1e6a1"
      },
      "execution_count": null,
      "outputs": [
        {
          "output_type": "stream",
          "name": "stdout",
          "text": [
            "Original Image:\n",
            "  10   50   80   60   90\n",
            "  70  100  120  150  200\n",
            " 200  220  230  210  190\n",
            " 180  160  140  120  110\n",
            " 100   70   50   40   20\n"
          ]
        }
      ]
    },
    {
      "cell_type": "code",
      "source": [
        "print(\"\\nVertical Edges Detected:\")\n",
        "print_image(vertical_edges)"
      ],
      "metadata": {
        "colab": {
          "base_uri": "https://localhost:8080/"
        },
        "id": "EiMuQAhjgh__",
        "outputId": "f90221c9-7494-430e-debc-586fddf2fe5f"
      },
      "execution_count": null,
      "outputs": [
        {
          "output_type": "stream",
          "name": "stdout",
          "text": [
            "\n",
            "Vertical Edges Detected:\n",
            "   0    0    0    0    0\n",
            "   0  200  100  130    0\n",
            "   0   70   10   30    0\n",
            "   0  100  120  130    0\n",
            "   0    0    0    0    0\n"
          ]
        }
      ]
    },
    {
      "cell_type": "code",
      "source": [
        "print(\"\\nHorizontal Edges Detected:\")\n",
        "print_image(horizontal_edges)"
      ],
      "metadata": {
        "colab": {
          "base_uri": "https://localhost:8080/"
        },
        "id": "REqR1uOjgnW3",
        "outputId": "3cc15c9c-b880-44df-af53-2f15079a62b1"
      },
      "execution_count": null,
      "outputs": [
        {
          "output_type": "stream",
          "name": "stdout",
          "text": [
            "\n",
            "Horizontal Edges Detected:\n",
            "   0    0    0    0    0\n",
            "   0  680  620  550    0\n",
            "   0  250   70  130    0\n",
            "   0  580  680  690    0\n",
            "   0    0    0    0    0\n"
          ]
        }
      ]
    }
  ]
}